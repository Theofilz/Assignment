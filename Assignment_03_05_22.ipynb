{
  "nbformat": 4,
  "nbformat_minor": 0,
  "metadata": {
    "colab": {
      "name": "Assignment 03.05.22.ipynb",
      "provenance": [],
      "authorship_tag": "ABX9TyOa9G8tReYHXKUlsQVuaGqi",
      "include_colab_link": true
    },
    "kernelspec": {
      "name": "python3",
      "display_name": "Python 3"
    },
    "language_info": {
      "name": "python"
    }
  },
  "cells": [
    {
      "cell_type": "markdown",
      "metadata": {
        "id": "view-in-github",
        "colab_type": "text"
      },
      "source": [
        "<a href=\"https://colab.research.google.com/github/Theofilz/Assignment/blob/main/Assignment_03_05_22.ipynb\" target=\"_parent\"><img src=\"https://colab.research.google.com/assets/colab-badge.svg\" alt=\"Open In Colab\"/></a>"
      ]
    },
    {
      "cell_type": "code",
      "execution_count": 2,
      "metadata": {
        "colab": {
          "base_uri": "https://localhost:8080/"
        },
        "id": "A4L-u5KLSGU-",
        "outputId": "9917ec22-cf12-4916-8463-2435bfad2a4d"
      },
      "outputs": [
        {
          "output_type": "stream",
          "name": "stdout",
          "text": [
            "Guess a number between 0 and 10: 9\n",
            "I'm sorry, but that's not correct\n",
            "Guess a number between 0 and 10: 6\n",
            "I'm sorry, but that's not correct\n",
            "Guess a number between 0 and 10: 7\n",
            "I'm sorry, but that's not correct\n",
            "Guess a number between 0 and 10: 5\n",
            "I'm sorry, but that's not correct\n",
            "Guess a number between 0 and 10: 8\n",
            "I'm sorry, but that's not correct\n",
            "Guess a number between 0 and 10: 4\n",
            "I'm sorry, but that's not correct\n",
            "Guess a number between 0 and 10: 3\n",
            "I'm sorry, but that's not correct\n",
            "Guess a number between 0 and 10: 2\n",
            "I'm sorry, but that's not correct\n",
            "Guess a number between 0 and 10: 1\n",
            "That's right! You guessed it! Congrats!\n"
          ]
        }
      ],
      "source": [
        "# Solution\n",
        "# Define a function that takes no input\n",
        "# Create a variable to store our random number\n",
        "# get user input and store it in a variable\n",
        "# compare the user input to the random number\n",
        "# implement a while loop\n",
        "\n",
        "import random\n",
        "def guess_number():\n",
        "    guessedNumber = random.randint(0, 10)\n",
        "\n",
        "    while True:\n",
        "      userInput = int(input(\"Guess a number between 0 and 10: \"))\n",
        "      if userInput == guessedNumber:\n",
        "        print(\"That's right! You guessed it! Congrats!\")\n",
        "        break\n",
        "      else:\n",
        "        print(\"I'm sorry, but that's not correct\")\n",
        "\n",
        "\n",
        "guess_number()"
      ]
    },
    {
      "cell_type": "code",
      "source": [
        ""
      ],
      "metadata": {
        "id": "DgkyaxqXXZkk"
      },
      "execution_count": null,
      "outputs": []
    },
    {
      "cell_type": "code",
      "source": [
        "import random\n",
        "def probability():\n",
        "    x = random.randit(0, 1)\n",
        "    if x == 0:\n",
        "      return 0\n",
        "    else:\n",
        "      return 1\n",
        "  \n",
        "probability()"
      ],
      "metadata": {
        "colab": {
          "base_uri": "https://localhost:8080/",
          "height": 329
        },
        "id": "PdEYW117Z3rr",
        "outputId": "1be13d8e-80f6-4a0f-89c3-a20a4cab2a1f"
      },
      "execution_count": 4,
      "outputs": [
        {
          "output_type": "error",
          "ename": "AttributeError",
          "evalue": "ignored",
          "traceback": [
            "\u001b[0;31m---------------------------------------------------------------------------\u001b[0m",
            "\u001b[0;31mAttributeError\u001b[0m                            Traceback (most recent call last)",
            "\u001b[0;32m<ipython-input-4-9367c4a7b94c>\u001b[0m in \u001b[0;36m<module>\u001b[0;34m()\u001b[0m\n\u001b[1;32m      7\u001b[0m       \u001b[0;32mreturn\u001b[0m \u001b[0;36m1\u001b[0m\u001b[0;34m\u001b[0m\u001b[0;34m\u001b[0m\u001b[0m\n\u001b[1;32m      8\u001b[0m \u001b[0;34m\u001b[0m\u001b[0m\n\u001b[0;32m----> 9\u001b[0;31m \u001b[0mprobability\u001b[0m\u001b[0;34m(\u001b[0m\u001b[0;34m)\u001b[0m\u001b[0;34m\u001b[0m\u001b[0;34m\u001b[0m\u001b[0m\n\u001b[0m",
            "\u001b[0;32m<ipython-input-4-9367c4a7b94c>\u001b[0m in \u001b[0;36mprobability\u001b[0;34m()\u001b[0m\n\u001b[1;32m      1\u001b[0m \u001b[0;32mimport\u001b[0m \u001b[0mrandom\u001b[0m\u001b[0;34m\u001b[0m\u001b[0;34m\u001b[0m\u001b[0m\n\u001b[1;32m      2\u001b[0m \u001b[0;32mdef\u001b[0m \u001b[0mprobability\u001b[0m\u001b[0;34m(\u001b[0m\u001b[0;34m)\u001b[0m\u001b[0;34m:\u001b[0m\u001b[0;34m\u001b[0m\u001b[0;34m\u001b[0m\u001b[0m\n\u001b[0;32m----> 3\u001b[0;31m     \u001b[0mx\u001b[0m \u001b[0;34m=\u001b[0m \u001b[0mrandom\u001b[0m\u001b[0;34m.\u001b[0m\u001b[0mrandit\u001b[0m\u001b[0;34m(\u001b[0m\u001b[0;36m0\u001b[0m\u001b[0;34m,\u001b[0m \u001b[0;36m1\u001b[0m\u001b[0;34m)\u001b[0m\u001b[0;34m\u001b[0m\u001b[0;34m\u001b[0m\u001b[0m\n\u001b[0m\u001b[1;32m      4\u001b[0m     \u001b[0;32mif\u001b[0m \u001b[0mx\u001b[0m \u001b[0;34m==\u001b[0m \u001b[0;36m0\u001b[0m\u001b[0;34m:\u001b[0m\u001b[0;34m\u001b[0m\u001b[0;34m\u001b[0m\u001b[0m\n\u001b[1;32m      5\u001b[0m       \u001b[0;32mreturn\u001b[0m \u001b[0;36m0\u001b[0m\u001b[0;34m\u001b[0m\u001b[0;34m\u001b[0m\u001b[0m\n",
            "\u001b[0;31mAttributeError\u001b[0m: module 'random' has no attribute 'randit'"
          ]
        }
      ]
    }
  ]
}