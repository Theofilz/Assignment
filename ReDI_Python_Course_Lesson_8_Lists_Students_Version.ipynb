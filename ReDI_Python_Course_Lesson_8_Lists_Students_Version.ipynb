{
  "nbformat": 4,
  "nbformat_minor": 0,
  "metadata": {
    "colab": {
      "name": "ReDI Python Course Lesson 8 - Lists - Students Version.ipynb",
      "provenance": [],
      "collapsed_sections": [],
      "include_colab_link": true
    },
    "kernelspec": {
      "name": "python3",
      "display_name": "Python 3"
    },
    "language_info": {
      "name": "python"
    }
  },
  "cells": [
    {
      "cell_type": "markdown",
      "metadata": {
        "id": "view-in-github",
        "colab_type": "text"
      },
      "source": [
        "<a href=\"https://colab.research.google.com/github/Theofilz/Assignment/blob/main/ReDI_Python_Course_Lesson_8_Lists_Students_Version.ipynb\" target=\"_parent\"><img src=\"https://colab.research.google.com/assets/colab-badge.svg\" alt=\"Open In Colab\"/></a>"
      ]
    },
    {
      "cell_type": "markdown",
      "source": [
        "# 1. Lists\n",
        "\n",
        "Lists represent a collection of elements. These elements are usually of the same type, but can also be of different types.  \n",
        "  \n",
        "Lists in Python are\n",
        "* ordered\n",
        "* indexed\n",
        "* mutable\n",
        "* and may contain duplicate entries.\n"
      ],
      "metadata": {
        "id": "33kqso3yaskt"
      }
    },
    {
      "cell_type": "markdown",
      "source": [
        "### How to define lists\n",
        "  \n",
        "We use square brackets [ ] to define a list."
      ],
      "metadata": {
        "id": "tvI8hjNB0-ra"
      }
    },
    {
      "cell_type": "code",
      "execution_count": null,
      "metadata": {
        "id": "Ryh8MCcJaqux",
        "colab": {
          "base_uri": "https://localhost:8080/"
        },
        "outputId": "583105a1-5d62-45dc-d2d6-fb031dccae0e"
      },
      "outputs": [
        {
          "output_type": "stream",
          "name": "stdout",
          "text": [
            "[]\n",
            "['cat', 'dog', 'fish', 'bison']\n",
            "[1, 7, 34, 20, 12, 7]\n",
            "[42, 'lion', True, 3.1415]\n"
          ]
        }
      ],
      "source": [
        "# an empty list\n",
        "my_list = []\n",
        "print(my_list)\n",
        "\n",
        "# a list of strings\n",
        "animals = ['cat', 'dog', 'fish', 'bison']\n",
        "print(animals)\n",
        "\n",
        "# a list of integers\n",
        "numbers = [1, 7, 34, 20, 12, 7]\n",
        "print(numbers)\n",
        "\n",
        "# a list with mixed entries\n",
        "mix = [42, 'lion', True, 3.1415]\n",
        "print(mix)"
      ]
    },
    {
      "cell_type": "markdown",
      "source": [
        "### Indexes\n",
        "Each element has an index, starting from **0** (**NOT 1!**). We can get the corresponding entry by specifying the index in square brackets."
      ],
      "metadata": {
        "id": "MaxkGd0LcW0J"
      }
    },
    {
      "cell_type": "code",
      "source": [
        "cities = ['Berlin', 'Munich', 'Paris']\n",
        "print('index 0:', cities[0])\n",
        "print('index 1:', cities[1])\n",
        "print('index 2:', cities[2])"
      ],
      "metadata": {
        "colab": {
          "base_uri": "https://localhost:8080/"
        },
        "id": "NqGQUf6MccAe",
        "outputId": "bb086b5f-c7bc-4592-ba13-b6add673b857"
      },
      "execution_count": null,
      "outputs": [
        {
          "output_type": "stream",
          "name": "stdout",
          "text": [
            "index 0: Berlin\n",
            "index 1: Munich\n",
            "index 2: Paris\n"
          ]
        }
      ]
    },
    {
      "cell_type": "markdown",
      "source": [
        "We can assign new entries to a list using the index."
      ],
      "metadata": {
        "id": "Yfjr4mWb_oOb"
      }
    },
    {
      "cell_type": "code",
      "source": [
        "cities[1] = 'Rome'\n",
        "print(cities)\n",
        "cities[2] = 'London'\n",
        "print(cities)"
      ],
      "metadata": {
        "colab": {
          "base_uri": "https://localhost:8080/"
        },
        "id": "10pYmDFw_oYb",
        "outputId": "3ba931c7-65ac-4e67-ed99-f341f18db963"
      },
      "execution_count": null,
      "outputs": [
        {
          "output_type": "stream",
          "name": "stdout",
          "text": [
            "['Berlin', 'Rome', 'Paris']\n",
            "['Berlin', 'Rome', 'London']\n"
          ]
        }
      ]
    },
    {
      "cell_type": "markdown",
      "source": [
        "### Adding elements to an (empty) list\n",
        "Recap: How do you declare an empty list?"
      ],
      "metadata": {
        "id": "JXKR6Fl_d4pe"
      }
    },
    {
      "cell_type": "code",
      "source": [
        "my_list = []\n",
        "print(my_list)"
      ],
      "metadata": {
        "id": "hOQ41Ptqd8bg",
        "colab": {
          "base_uri": "https://localhost:8080/"
        },
        "outputId": "32c00d33-cf5b-456b-c58d-8bdcd26e15bc"
      },
      "execution_count": null,
      "outputs": [
        {
          "output_type": "stream",
          "name": "stdout",
          "text": [
            "[]\n"
          ]
        }
      ]
    },
    {
      "cell_type": "markdown",
      "source": [
        "And how you add new elements to the list?"
      ],
      "metadata": {
        "id": "RBtBk0U1d9GV"
      }
    },
    {
      "cell_type": "code",
      "source": [
        "my_list.append('Berlin')\n",
        "print(my_list)"
      ],
      "metadata": {
        "id": "5bHCcVswd9PO",
        "colab": {
          "base_uri": "https://localhost:8080/"
        },
        "outputId": "3266b30c-def1-4f3d-e68f-a7568d6c7a32"
      },
      "execution_count": null,
      "outputs": [
        {
          "output_type": "stream",
          "name": "stdout",
          "text": [
            "['Berlin']\n"
          ]
        }
      ]
    },
    {
      "cell_type": "code",
      "source": [
        "my_list.append('Paris')\n",
        "print(my_list)"
      ],
      "metadata": {
        "colab": {
          "base_uri": "https://localhost:8080/"
        },
        "id": "Ke7ZKu9ad9gc",
        "outputId": "cfafc3b3-40c6-4786-e815-6b7373263341"
      },
      "execution_count": null,
      "outputs": [
        {
          "output_type": "stream",
          "name": "stdout",
          "text": [
            "['Berlin', 'Paris']\n"
          ]
        }
      ]
    },
    {
      "cell_type": "markdown",
      "source": [
        "Now, add your hometown to my_list. How many cities are in the list? Print those cities using indexes."
      ],
      "metadata": {
        "id": "FgCvfCuweDG-"
      }
    },
    {
      "cell_type": "code",
      "source": [
        "my_hometown = 'enter_your_hometown_here'\n",
        "\n",
        "# solution\n",
        "my_list.append(my_hometown)\n",
        "print('index 0:', my_list[0])\n",
        "print('index 1:', my_list[1])\n",
        "print('index 2:', my_list[2])"
      ],
      "metadata": {
        "colab": {
          "base_uri": "https://localhost:8080/"
        },
        "id": "l9cVlTZAeDO_",
        "outputId": "08555ef2-576d-4678-f009-4145f4683962"
      },
      "execution_count": null,
      "outputs": [
        {
          "output_type": "stream",
          "name": "stdout",
          "text": [
            "index 0: Berlin\n",
            "index 1: Paris\n",
            "index 2: enter_your_hometown_here\n"
          ]
        }
      ]
    },
    {
      "cell_type": "markdown",
      "source": [
        "### Built-in functions\n",
        "Find the index of a value. If the value appears more than once, we will get the index of the first one. We’ll get an error if the value is not on the list."
      ],
      "metadata": {
        "id": "yX9Or0CGgGkh"
      }
    },
    {
      "cell_type": "code",
      "source": [
        "# a list of integers\n",
        "numbers = [1, 7, 34, 20, 12, 7]\n",
        "numbers.index(7)  # 7 is in list twice"
      ],
      "metadata": {
        "colab": {
          "base_uri": "https://localhost:8080/"
        },
        "id": "A6CqjPTWgQkq",
        "outputId": "d11df54f-eba1-4620-fc02-12e5488c23a8"
      },
      "execution_count": null,
      "outputs": [
        {
          "output_type": "execute_result",
          "data": {
            "text/plain": [
              "1"
            ]
          },
          "metadata": {},
          "execution_count": 59
        }
      ]
    },
    {
      "cell_type": "code",
      "source": [
        "numbers.index(3)  # does not work as 3 is not in list"
      ],
      "metadata": {
        "colab": {
          "base_uri": "https://localhost:8080/",
          "height": 170
        },
        "id": "w_u9jSXxgGtL",
        "outputId": "9c59110a-3b30-470b-e157-772646febb7b"
      },
      "execution_count": null,
      "outputs": [
        {
          "output_type": "error",
          "ename": "ValueError",
          "evalue": "ignored",
          "traceback": [
            "\u001b[0;31m---------------------------------------------------------------------------\u001b[0m",
            "\u001b[0;31mValueError\u001b[0m                                Traceback (most recent call last)",
            "\u001b[0;32m<ipython-input-60-23beb0b2d8cd>\u001b[0m in \u001b[0;36m<module>\u001b[0;34m()\u001b[0m\n\u001b[0;32m----> 1\u001b[0;31m \u001b[0mnumbers\u001b[0m\u001b[0;34m.\u001b[0m\u001b[0mindex\u001b[0m\u001b[0;34m(\u001b[0m\u001b[0;36m3\u001b[0m\u001b[0;34m)\u001b[0m  \u001b[0;31m# does not work as 3 is not in list\u001b[0m\u001b[0;34m\u001b[0m\u001b[0;34m\u001b[0m\u001b[0m\n\u001b[0m",
            "\u001b[0;31mValueError\u001b[0m: 3 is not in list"
          ]
        }
      ]
    },
    {
      "cell_type": "markdown",
      "source": [
        "Insert a value at a particular index. Existing entries will be shifted."
      ],
      "metadata": {
        "id": "CWtaws_2gGzR"
      }
    },
    {
      "cell_type": "code",
      "source": [
        "numbers = [1, 7, 34, 20, 12, 7]\n",
        "print(numbers)\n",
        "numbers.insert(0, 45)  # insert 45 at the beginning (index = 0) of the list\n",
        "print(numbers)"
      ],
      "metadata": {
        "id": "fBZpbC0UgG5a",
        "colab": {
          "base_uri": "https://localhost:8080/"
        },
        "outputId": "62c16cc1-8447-4463-a715-f45cf84fe616"
      },
      "execution_count": null,
      "outputs": [
        {
          "output_type": "stream",
          "name": "stdout",
          "text": [
            "[1, 7, 34, 20, 12, 7]\n",
            "[45, 1, 7, 34, 20, 12, 7]\n"
          ]
        }
      ]
    },
    {
      "cell_type": "code",
      "source": [
        "numbers.insert(2, 31)  # insert 31 at index = 2\n",
        "print(numbers)"
      ],
      "metadata": {
        "colab": {
          "base_uri": "https://localhost:8080/"
        },
        "id": "lz5StNznDNxH",
        "outputId": "3b258231-0c38-446a-a2af-7c2a0ef54d96"
      },
      "execution_count": null,
      "outputs": [
        {
          "output_type": "stream",
          "name": "stdout",
          "text": [
            "[45, 1, 31, 7, 34, 20, 12, 7]\n"
          ]
        }
      ]
    },
    {
      "cell_type": "markdown",
      "source": [
        "Remove an element by its value."
      ],
      "metadata": {
        "id": "jNq3hoyHgG_u"
      }
    },
    {
      "cell_type": "code",
      "source": [
        "numbers.remove(12)\n",
        "print(numbers)"
      ],
      "metadata": {
        "colab": {
          "base_uri": "https://localhost:8080/"
        },
        "id": "Z_w2jIMbgHFb",
        "outputId": "6a4ca1f0-6b04-4a37-eb79-b13c3bdcdcea"
      },
      "execution_count": null,
      "outputs": [
        {
          "output_type": "stream",
          "name": "stdout",
          "text": [
            "[45, 1, 31, 34, 20, 7]\n"
          ]
        }
      ]
    },
    {
      "cell_type": "markdown",
      "source": [
        "If the value appears more than once, only the first one will be removed."
      ],
      "metadata": {
        "id": "mIRueIEWgHLy"
      }
    },
    {
      "cell_type": "code",
      "source": [
        "numbers.remove(7)\n",
        "print(numbers)"
      ],
      "metadata": {
        "colab": {
          "base_uri": "https://localhost:8080/"
        },
        "id": "GOdbqPIAgHTS",
        "outputId": "27a8bb9e-fee8-4421-ee06-244c2564dd64"
      },
      "execution_count": null,
      "outputs": [
        {
          "output_type": "stream",
          "name": "stdout",
          "text": [
            "[45, 1, 31, 34, 20, 12, 7]\n"
          ]
        }
      ]
    },
    {
      "cell_type": "markdown",
      "source": [
        "### Handy functions\n",
        "We can join multiple lists via the + operator."
      ],
      "metadata": {
        "id": "CBDhRgsbjIW8"
      }
    },
    {
      "cell_type": "code",
      "source": [
        "list_1 = ['a', 'b']\n",
        "list_2 = ['c', 'd']\n",
        "list_3 = ['e', 'f']\n",
        "list_4 = list_1 + list_2 + list_3\n",
        "print(list_4)"
      ],
      "metadata": {
        "colab": {
          "base_uri": "https://localhost:8080/"
        },
        "id": "jOsdkMop2Nk3",
        "outputId": "ac1da2c7-4418-4020-929b-77bf90d616bd"
      },
      "execution_count": null,
      "outputs": [
        {
          "output_type": "stream",
          "name": "stdout",
          "text": [
            "['a', 'b', 'c', 'd', 'e', 'f']\n"
          ]
        }
      ]
    },
    {
      "cell_type": "markdown",
      "source": [
        "You can get the number of characters in a string by the len() function.\n",
        "Similarly, you can use the len() function to get the number of items in a list."
      ],
      "metadata": {
        "id": "O7bh-hgo2Xl1"
      }
    },
    {
      "cell_type": "code",
      "source": [
        "my_string = 'chocolate'\n",
        "print('my_string contains', len(my_string), 'characters')\n",
        "ingredients = ['flour', 'butter', 'sugar', 'eggs', 'chocolate']\n",
        "print('ingredients contains', len(ingredients), 'elements')"
      ],
      "metadata": {
        "colab": {
          "base_uri": "https://localhost:8080/"
        },
        "id": "eA639lHcjIdD",
        "outputId": "39bf00ab-9416-4c4c-a260-ede04eb516a5"
      },
      "execution_count": null,
      "outputs": [
        {
          "output_type": "stream",
          "name": "stdout",
          "text": [
            "my_string contains 9 characters\n",
            "ingredients contains 5 elements\n"
          ]
        }
      ]
    },
    {
      "cell_type": "markdown",
      "source": [
        "You can enumerate the items in a list using the enumerate() function:"
      ],
      "metadata": {
        "id": "LBpBm9fgjIjO"
      }
    },
    {
      "cell_type": "code",
      "source": [
        "# without enumerate()\n",
        "for item in ingredients:\n",
        "  print(item)"
      ],
      "metadata": {
        "colab": {
          "base_uri": "https://localhost:8080/"
        },
        "id": "PzTLOx87jIpD",
        "outputId": "216d1c7b-d287-4758-f596-bf032d6708ca"
      },
      "execution_count": null,
      "outputs": [
        {
          "output_type": "stream",
          "name": "stdout",
          "text": [
            "flour\n",
            "butter\n",
            "sugar\n",
            "eggs\n",
            "chocolate\n"
          ]
        }
      ]
    },
    {
      "cell_type": "code",
      "source": [
        "# with enumerate()\n",
        "for number, item in enumerate(ingredients):\n",
        "  print(number, item)"
      ],
      "metadata": {
        "colab": {
          "base_uri": "https://localhost:8080/"
        },
        "id": "GQajnhNtkSZh",
        "outputId": "5a10f0ba-171b-4557-ce47-0b82a60fc01f"
      },
      "execution_count": null,
      "outputs": [
        {
          "output_type": "stream",
          "name": "stdout",
          "text": [
            "0 flour\n",
            "1 butter\n",
            "2 sugar\n",
            "3 eggs\n",
            "4 chocolate\n"
          ]
        }
      ]
    },
    {
      "cell_type": "markdown",
      "source": [
        "This also works with strings:"
      ],
      "metadata": {
        "id": "RrjN3bPKQoxY"
      }
    },
    {
      "cell_type": "code",
      "source": [
        "# with enumerate()\n",
        "for number, item in enumerate('flour'):\n",
        "  print(number, item)"
      ],
      "metadata": {
        "colab": {
          "base_uri": "https://localhost:8080/"
        },
        "id": "c4g-C-8hQiKs",
        "outputId": "118a80c2-1aad-4922-b617-21c1a0a8fa4d"
      },
      "execution_count": null,
      "outputs": [
        {
          "output_type": "stream",
          "name": "stdout",
          "text": [
            "0 f\n",
            "1 l\n",
            "2 o\n",
            "3 u\n",
            "4 r\n"
          ]
        }
      ]
    },
    {
      "cell_type": "markdown",
      "source": [
        "### Slicing and Indexing"
      ],
      "metadata": {
        "id": "8FUdkxJ3jIv8"
      }
    },
    {
      "cell_type": "markdown",
      "source": [
        "Let's define a list containing the first nine letters of the alphabet."
      ],
      "metadata": {
        "id": "53wXXg8Jqsrg"
      }
    },
    {
      "cell_type": "code",
      "source": [
        "letters = ['a', 'b', 'c', 'd', 'e', 'f', 'g', 'h', 'i']"
      ],
      "metadata": {
        "id": "kJnIXYXOqynO"
      },
      "execution_count": null,
      "outputs": []
    },
    {
      "cell_type": "markdown",
      "source": [
        "We can get a slice of the list by specifying the first index and last index of the slice in square brackets separated by a colon. The first index specified is included in the slice, the last index is not."
      ],
      "metadata": {
        "id": "JjEO5axtq1jV"
      }
    },
    {
      "cell_type": "code",
      "source": [
        "print(letters[2:])"
      ],
      "metadata": {
        "colab": {
          "base_uri": "https://localhost:8080/"
        },
        "id": "K6vEbyefGufg",
        "outputId": "a2d355f7-cea1-44f1-9ed5-ad055be333b7"
      },
      "execution_count": null,
      "outputs": [
        {
          "output_type": "stream",
          "name": "stdout",
          "text": [
            "['c', 'd', 'e', 'f', 'g', 'h', 'i']\n"
          ]
        }
      ]
    },
    {
      "cell_type": "code",
      "source": [
        "print(letters[:5])"
      ],
      "metadata": {
        "colab": {
          "base_uri": "https://localhost:8080/"
        },
        "id": "y-mzyYsWHDMg",
        "outputId": "a402c29f-4d16-4922-fced-4b2de0a7feb5"
      },
      "execution_count": null,
      "outputs": [
        {
          "output_type": "stream",
          "name": "stdout",
          "text": [
            "['a', 'b', 'c', 'd', 'e']\n"
          ]
        }
      ]
    },
    {
      "cell_type": "code",
      "source": [
        "print(letters[2:7])"
      ],
      "metadata": {
        "id": "u4ZK5LqClxQo",
        "colab": {
          "base_uri": "https://localhost:8080/"
        },
        "outputId": "fed9140b-bc85-4292-904f-d4501d5020ba"
      },
      "execution_count": null,
      "outputs": [
        {
          "output_type": "stream",
          "name": "stdout",
          "text": [
            "['c', 'd', 'e', 'f', 'g']\n"
          ]
        }
      ]
    },
    {
      "cell_type": "markdown",
      "source": [
        "If we just give a colon, the entire list will be returned."
      ],
      "metadata": {
        "id": "YFltSJq9QzdZ"
      }
    },
    {
      "cell_type": "code",
      "source": [
        "print(letters[:])"
      ],
      "metadata": {
        "colab": {
          "base_uri": "https://localhost:8080/"
        },
        "id": "ZyyV-NeWHclE",
        "outputId": "a4bf7829-df6d-488a-d7f0-77188a745e09"
      },
      "execution_count": null,
      "outputs": [
        {
          "output_type": "stream",
          "name": "stdout",
          "text": [
            "['a', 'b', 'c', 'd', 'e', 'f', 'g', 'h', 'i']\n"
          ]
        }
      ]
    },
    {
      "cell_type": "markdown",
      "source": [
        "Similarly, we can specify negative indexes, i.e. we start counting from the back of the list."
      ],
      "metadata": {
        "id": "ZooRj5xVrOBs"
      }
    },
    {
      "cell_type": "code",
      "source": [
        "print(letters[-1])"
      ],
      "metadata": {
        "colab": {
          "base_uri": "https://localhost:8080/"
        },
        "id": "ETkxtQqpHoEv",
        "outputId": "c5bfb9f3-0e83-400d-8036-eb5523014c91"
      },
      "execution_count": null,
      "outputs": [
        {
          "output_type": "stream",
          "name": "stdout",
          "text": [
            "i\n"
          ]
        }
      ]
    },
    {
      "cell_type": "code",
      "source": [
        "print(letters[-7:-2])"
      ],
      "metadata": {
        "colab": {
          "base_uri": "https://localhost:8080/"
        },
        "id": "29YQAjWurOJe",
        "outputId": "5b404b01-60b3-460a-f608-55b8467f7bc6"
      },
      "execution_count": null,
      "outputs": [
        {
          "output_type": "stream",
          "name": "stdout",
          "text": [
            "['c', 'd', 'e', 'f', 'g']\n"
          ]
        }
      ]
    },
    {
      "cell_type": "markdown",
      "source": [
        "We can also specify a stepsize, similar to the range function."
      ],
      "metadata": {
        "id": "x3ALWxK8rtAE"
      }
    },
    {
      "cell_type": "code",
      "source": [
        "#remember\n",
        "for number in range(1,8,2):\n",
        "  print(number)"
      ],
      "metadata": {
        "colab": {
          "base_uri": "https://localhost:8080/"
        },
        "id": "HdZo6xPirtMc",
        "outputId": "2ada4d32-94d4-4a9e-cd52-4e50ad354e25"
      },
      "execution_count": null,
      "outputs": [
        {
          "output_type": "stream",
          "name": "stdout",
          "text": [
            "1\n",
            "3\n",
            "5\n",
            "7\n"
          ]
        }
      ]
    },
    {
      "cell_type": "code",
      "source": [
        "letters[2:7:2]"
      ],
      "metadata": {
        "colab": {
          "base_uri": "https://localhost:8080/"
        },
        "id": "K-yc54G0r557",
        "outputId": "7543cf09-9d18-4bbf-ef7e-8c3a8dd16daf"
      },
      "execution_count": null,
      "outputs": [
        {
          "output_type": "execute_result",
          "data": {
            "text/plain": [
              "['c', 'e', 'g']"
            ]
          },
          "metadata": {},
          "execution_count": 78
        }
      ]
    },
    {
      "cell_type": "markdown",
      "source": [
        "We can reverse a list by leaving the first and last index empty and specifying -1 as stepsize."
      ],
      "metadata": {
        "id": "bIVEP9_RsKer"
      }
    },
    {
      "cell_type": "code",
      "source": [
        "letters[::-1]"
      ],
      "metadata": {
        "colab": {
          "base_uri": "https://localhost:8080/"
        },
        "id": "zfZUqhydsKk7",
        "outputId": "c2d16bdf-1f6e-442b-b5e2-b908b42ec3e2"
      },
      "execution_count": null,
      "outputs": [
        {
          "output_type": "execute_result",
          "data": {
            "text/plain": [
              "['i', 'h', 'g', 'f', 'e', 'd', 'c', 'b', 'a']"
            ]
          },
          "metadata": {},
          "execution_count": 79
        }
      ]
    },
    {
      "cell_type": "markdown",
      "source": [
        "This can also be achieved by the implented function .reverse().  \n",
        "However, this operation modifies the object and does not return a new object!"
      ],
      "metadata": {
        "id": "7NamhkpReoKz"
      }
    },
    {
      "cell_type": "code",
      "source": [
        "letters.reverse()\n",
        "print(letters)"
      ],
      "metadata": {
        "colab": {
          "base_uri": "https://localhost:8080/"
        },
        "id": "fcERhNoUeoTb",
        "outputId": "fc9c640a-2dce-46cf-ba6d-d5a92f0eb08c"
      },
      "execution_count": null,
      "outputs": [
        {
          "output_type": "stream",
          "name": "stdout",
          "text": [
            "['i', 'h', 'g', 'f', 'e', 'd', 'c', 'b', 'a']\n"
          ]
        }
      ]
    },
    {
      "cell_type": "markdown",
      "source": [
        "Question: What does the next cell return?"
      ],
      "metadata": {
        "id": "-tyauotqttU4"
      }
    },
    {
      "cell_type": "code",
      "source": [
        "letters[::-2]"
      ],
      "metadata": {
        "colab": {
          "base_uri": "https://localhost:8080/"
        },
        "id": "P3oAMhRltstg",
        "outputId": "989bedc9-06d2-470c-abbc-c005f00e19e6"
      },
      "execution_count": null,
      "outputs": [
        {
          "output_type": "execute_result",
          "data": {
            "text/plain": [
              "['a', 'c', 'e', 'g', 'i']"
            ]
          },
          "metadata": {},
          "execution_count": 81
        }
      ]
    },
    {
      "cell_type": "markdown",
      "source": [
        "Answer: The entire list with stepsize 2 starting from the end (specified by the - sign)."
      ],
      "metadata": {
        "id": "xLB5SpmXRHW4"
      }
    },
    {
      "cell_type": "markdown",
      "source": [
        "### Exercises\n",
        "  \n",
        "Exercise 1\n",
        "  \n",
        "* Create an empty list called students_names.\n",
        "* Add to this list all the names of the students present in class today.\n",
        "* Print the whole list.\n",
        "* Print student on the position 2 of your list. Who is it?\n",
        "* Print student on the position 15 of your list. What happened?\n",
        "  \n",
        "Exercise 2\n",
        "\n",
        "* Create a non-empty list containing 3 names of your favourite musicians or music bands. How will you call this list?\n",
        "* Check who is on position 0, who on 1 and who on position 2.\n",
        "* Add 2 more musicians or bands to the list.\n",
        "* Print the whole list. Print the two new musicians/bands on your list using indexes.\n",
        "* Bonus 1: Replace the artist on position 2 with 'The Beatles' and print the entire list.\n",
        "* Bonus 2: Arrange the list in descending order using indexes so that your most favourite musician/band is on position 0.\n",
        "* Hint: remember the function *list.insert(position, 'band_name')*"
      ],
      "metadata": {
        "id": "zGiniLCylxY2"
      }
    },
    {
      "cell_type": "markdown",
      "source": [
        "### Homework\n",
        "  \n",
        "1. Given a list of numbers, write a program to turn every item of a list into its square.\n"
      ],
      "metadata": {
        "id": "DNgu_DlYgsPU"
      }
    },
    {
      "cell_type": "code",
      "source": [
        "input = [1, 2, 3, 4, 5, 6, 7, 8, 9, 10]\n",
        "output = []\n",
        "# do something\n",
        "print(output)"
      ],
      "metadata": {
        "colab": {
          "base_uri": "https://localhost:8080/"
        },
        "id": "sXPKNCuMgrsN",
        "outputId": "731b0956-1bb2-46b8-ce33-b3ba46d03ca1"
      },
      "execution_count": null,
      "outputs": [
        {
          "output_type": "stream",
          "name": "stdout",
          "text": [
            "[1, 4, 9, 16, 25, 36, 49, 64, 81, 100]\n"
          ]
        }
      ]
    },
    {
      "cell_type": "markdown",
      "source": [
        "2. Given a Python list, write a program to remove all occurrences of item 42."
      ],
      "metadata": {
        "id": "BN5C-W-7hCX8"
      }
    },
    {
      "cell_type": "code",
      "source": [
        "input = [1, 2, 42, 4, 5, 6, 42, 42, 9, 42]\n",
        "output = []\n",
        "# do something\n",
        "print(output)"
      ],
      "metadata": {
        "colab": {
          "base_uri": "https://localhost:8080/"
        },
        "id": "11SDW2g-hCiT",
        "outputId": "47d51615-afee-4d8a-a439-25114166c72c"
      },
      "execution_count": null,
      "outputs": [
        {
          "output_type": "stream",
          "name": "stdout",
          "text": [
            "[1, 2, 4, 5, 6, 9]\n"
          ]
        }
      ]
    },
    {
      "cell_type": "markdown",
      "source": [
        "3. Quiz: to be found on Scalando"
      ],
      "metadata": {
        "id": "CSm1T7MABB8W"
      }
    }
  ]
}