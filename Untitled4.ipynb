{
  "nbformat": 4,
  "nbformat_minor": 0,
  "metadata": {
    "colab": {
      "name": "Untitled4.ipynb",
      "provenance": [],
      "authorship_tag": "ABX9TyOI2fqkMIG1x/H5Zk69WCzP",
      "include_colab_link": true
    },
    "kernelspec": {
      "name": "python3",
      "display_name": "Python 3"
    },
    "language_info": {
      "name": "python"
    }
  },
  "cells": [
    {
      "cell_type": "markdown",
      "metadata": {
        "id": "view-in-github",
        "colab_type": "text"
      },
      "source": [
        "<a href=\"https://colab.research.google.com/github/Theofilz/Assignment/blob/main/Untitled4.ipynb\" target=\"_parent\"><img src=\"https://colab.research.google.com/assets/colab-badge.svg\" alt=\"Open In Colab\"/></a>"
      ]
    },
    {
      "cell_type": "code",
      "execution_count": null,
      "metadata": {
        "colab": {
          "base_uri": "https://localhost:8080/"
        },
        "id": "eVB4Kjv1T1zv",
        "outputId": "80d273da-7281-4772-fd1c-4bd6c3c54d0a"
      },
      "outputs": [
        {
          "name": "stdout",
          "output_type": "stream",
          "text": [
            "Enter a number: 89\n"
          ]
        }
      ],
      "source": [
        "# function to find out if a number is even or odd\n",
        "def even_or_odd():\n",
        "    number = int(input(\"Enter a number: \"))\n",
        "\n",
        "    if number % 2 == 0:\n",
        "      print(\"The number is even\")\n",
        "    else:\n",
        "      print(\"The number is odd\")\n",
        "even_or_odd()"
      ]
    },
    {
      "cell_type": "code",
      "source": [
        "def information(name, school, location):\n",
        "  print(\"My name is \" + name )\n",
        "  print(\"I school in \" + school )\n",
        "  print(\"I live in \" + location)\n",
        "information(\"Buchi\", \"Pfarrkirchen\", \"Bayern\")"
      ],
      "metadata": {
        "colab": {
          "base_uri": "https://localhost:8080/"
        },
        "id": "_gYuIxHcNWjJ",
        "outputId": "d6ed4138-7365-401c-f79f-f3ee8fe23ccc"
      },
      "execution_count": 2,
      "outputs": [
        {
          "output_type": "stream",
          "name": "stdout",
          "text": [
            "My name is Buchi\n",
            "I school in Pfarrkirchen\n",
            "I live in Bayern\n"
          ]
        }
      ]
    },
    {
      "cell_type": "code",
      "source": [
        "def that_is_also_me():\n",
        "  name = input(\"Please type your name: \")\n",
        "  hometown = input(\"Please type your hometown: \")\n",
        "  hobby = input(\"Please type your favourite hobby \")\n",
        "  age = input(\"Please type your age \")\n",
        "  print(f\"Hello, my name is {name}. I come from {hometown}. My favourite hobby is {hobby}. I am {age} years old.\")\n",
        "that_is_also_me()"
      ],
      "metadata": {
        "colab": {
          "base_uri": "https://localhost:8080/"
        },
        "id": "nahlqhkqQEMV",
        "outputId": "b482fa26-3fe7-4691-c751-5c5c73fbc3c1"
      },
      "execution_count": 3,
      "outputs": [
        {
          "output_type": "stream",
          "name": "stdout",
          "text": [
            "Please type your name: Buchi\n",
            "Please type your hometown: Pfarrkirchen\n",
            "Please type your favourite hobby dancing\n",
            "Please type your age 32\n",
            "Hello, my name is Buchi. I come from Pfarrkirchen. My favourite hobby is dancing. I am 32 years old.\n"
          ]
        }
      ]
    }
  ]
}