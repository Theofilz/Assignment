{
  "nbformat": 4,
  "nbformat_minor": 0,
  "metadata": {
    "colab": {
      "name": "Intro.ipynb",
      "provenance": [],
      "authorship_tag": "ABX9TyOQrpmj68BXMjb5iPpB+EiE",
      "include_colab_link": true
    },
    "kernelspec": {
      "name": "python3",
      "display_name": "Python 3"
    },
    "language_info": {
      "name": "python"
    }
  },
  "cells": [
    {
      "cell_type": "markdown",
      "metadata": {
        "id": "view-in-github",
        "colab_type": "text"
      },
      "source": [
        "<a href=\"https://colab.research.google.com/github/Theofilz/Assignment/blob/main/Intro.ipynb\" target=\"_parent\"><img src=\"https://colab.research.google.com/assets/colab-badge.svg\" alt=\"Open In Colab\"/></a>"
      ]
    },
    {
      "cell_type": "code",
      "source": [
        "# 3 variables that do NOT have the correct naming convention\n",
        "Maximum_number = 100\n",
        "2maximum_number = 100\n",
        "maximum_Number = 100"
      ],
      "metadata": {
        "id": "V5w7rOLnjgnR"
      },
      "execution_count": null,
      "outputs": []
    },
    {
      "cell_type": "code",
      "source": [
        "# 3 variables that do have the correct naming convention\n",
        "maximum_number = 100\n",
        "name = 'Peter'\n",
        "is_tall = True\n"
      ],
      "metadata": {
        "id": "hYPsjLtGhQeF"
      },
      "execution_count": null,
      "outputs": []
    },
    {
      "cell_type": "code",
      "source": [
        "# 2 examples of an integer\n",
        "number_of_persons = 20\n",
        "age = 60\n"
      ],
      "metadata": {
        "id": "imDHOSkAnY1T"
      },
      "execution_count": null,
      "outputs": []
    },
    {
      "cell_type": "code",
      "source": [
        "# 2 examples of a float\n",
        "height = 132.3\n",
        "weight = 65.3"
      ],
      "metadata": {
        "id": "jX-KvZlKobtH"
      },
      "execution_count": null,
      "outputs": []
    },
    {
      "cell_type": "code",
      "source": [
        "# 2 examples of string\n",
        "name = 'Peter'\n",
        "color = \"red\""
      ],
      "metadata": {
        "id": "46qksjI3rKuS"
      },
      "execution_count": null,
      "outputs": []
    },
    {
      "cell_type": "code",
      "source": [
        "# 2 examples of boolean\n",
        "is_tall = True\n",
        "not_good = False"
      ],
      "metadata": {
        "id": "HS1_f3XFruBl"
      },
      "execution_count": null,
      "outputs": []
    },
    {
      "cell_type": "code",
      "source": [
        "\n",
        "print(1 + 2)"
      ],
      "metadata": {
        "colab": {
          "base_uri": "https://localhost:8080/"
        },
        "id": "iyOl0-RGsIzC",
        "outputId": "fd916004-adba-4cfb-d616-68dfb8ce030b"
      },
      "execution_count": null,
      "outputs": [
        {
          "output_type": "stream",
          "name": "stdout",
          "text": [
            "3\n"
          ]
        }
      ]
    },
    {
      "cell_type": "code",
      "source": [
        "# example of subtraction\n",
        "print(20 - 15)"
      ],
      "metadata": {
        "colab": {
          "base_uri": "https://localhost:8080/"
        },
        "id": "ItGODYvBsWGa",
        "outputId": "cb40cec9-7235-4fd0-bf61-9789206f6b48"
      },
      "execution_count": null,
      "outputs": [
        {
          "output_type": "stream",
          "name": "stdout",
          "text": [
            "5\n"
          ]
        }
      ]
    },
    {
      "cell_type": "code",
      "source": [
        "# example of multiplication\n",
        "print(12 * 2)"
      ],
      "metadata": {
        "colab": {
          "base_uri": "https://localhost:8080/"
        },
        "id": "h2lxbXUAsgLJ",
        "outputId": "601f87df-cd1c-4853-88ad-ca83d05d03ec"
      },
      "execution_count": null,
      "outputs": [
        {
          "output_type": "stream",
          "name": "stdout",
          "text": [
            "24\n"
          ]
        }
      ]
    },
    {
      "cell_type": "code",
      "source": [
        "# example of division\n",
        "print(24 / 4)"
      ],
      "metadata": {
        "colab": {
          "base_uri": "https://localhost:8080/"
        },
        "id": "dzVuh7pDssrA",
        "outputId": "7d5ce8a3-d271-492c-a0be-3f2a76904091"
      },
      "execution_count": null,
      "outputs": [
        {
          "output_type": "stream",
          "name": "stdout",
          "text": [
            "6.0\n"
          ]
        }
      ]
    },
    {
      "cell_type": "code",
      "source": [
        "# example of modulo\n",
        "print(20 % 18)"
      ],
      "metadata": {
        "colab": {
          "base_uri": "https://localhost:8080/"
        },
        "id": "AxStRso8s2-g",
        "outputId": "410e8a38-5896-4f35-f99c-cbfacde0ed83"
      },
      "execution_count": null,
      "outputs": [
        {
          "output_type": "stream",
          "name": "stdout",
          "text": [
            "2\n"
          ]
        }
      ]
    },
    {
      "cell_type": "code",
      "source": [
        "# example of exponential\n",
        "print(5 ** 5)"
      ],
      "metadata": {
        "colab": {
          "base_uri": "https://localhost:8080/"
        },
        "id": "FYmcv5sWtFop",
        "outputId": "c2caca00-93b1-4ada-e7a0-519813a303ba"
      },
      "execution_count": null,
      "outputs": [
        {
          "output_type": "stream",
          "name": "stdout",
          "text": [
            "3125\n"
          ]
        }
      ]
    },
    {
      "cell_type": "code",
      "source": [
        "# defining variables that can confirm the guesses input \n",
        "answer = 50\n",
        "guess_range = random.randint(0, 100)\n",
        "\n",
        "userGuess = int(input(\"Please enter your guess: \"))\n",
        "if userGuess > answer:\n",
        "  print('Your guess is too high')\n",
        "if userGuess < answer:\n",
        "  print('Your guess is too low')\n",
        "if userGuess == answer: \n",
        "print('You win!')"
      ],
      "metadata": {
        "id": "-qL9TCgc9PQA",
        "colab": {
          "base_uri": "https://localhost:8080/",
          "height": 133
        },
        "outputId": "e9826803-293d-4ae1-a8f9-04d1681eccb3"
      },
      "execution_count": null,
      "outputs": [
        {
          "output_type": "error",
          "ename": "IndentationError",
          "evalue": "ignored",
          "traceback": [
            "\u001b[0;36m  File \u001b[0;32m\"<ipython-input-11-ecf43afc17b6>\"\u001b[0;36m, line \u001b[0;32m11\u001b[0m\n\u001b[0;31m    print('You win!')\u001b[0m\n\u001b[0m        ^\u001b[0m\n\u001b[0;31mIndentationError\u001b[0m\u001b[0;31m:\u001b[0m expected an indented block\n"
          ]
        }
      ]
    },
    {
      "cell_type": "code",
      "source": [
        "numbers = [10, 15, 13, 39]\n",
        "numbers.clear()\n",
        "print(numbers)"
      ],
      "metadata": {
        "colab": {
          "base_uri": "https://localhost:8080/"
        },
        "id": "N0idmaUkiLfs",
        "outputId": "e23da609-3853-43b5-f75a-e6a615d3ca4c"
      },
      "execution_count": null,
      "outputs": [
        {
          "output_type": "stream",
          "name": "stdout",
          "text": [
            "[]\n"
          ]
        }
      ]
    },
    {
      "cell_type": "code",
      "source": [
        "numbers = (10, 15, 29, 30)\n",
        "numbers.index([3])\n",
        "print(numbers)"
      ],
      "metadata": {
        "colab": {
          "base_uri": "https://localhost:8080/",
          "height": 204
        },
        "id": "EGCUIdWSjbGT",
        "outputId": "a86e084c-78bd-477f-96f1-cfc8c885746e"
      },
      "execution_count": null,
      "outputs": [
        {
          "output_type": "error",
          "ename": "ValueError",
          "evalue": "ignored",
          "traceback": [
            "\u001b[0;31m---------------------------------------------------------------------------\u001b[0m",
            "\u001b[0;31mValueError\u001b[0m                                Traceback (most recent call last)",
            "\u001b[0;32m<ipython-input-10-300a302580a7>\u001b[0m in \u001b[0;36m<module>\u001b[0;34m()\u001b[0m\n\u001b[1;32m      1\u001b[0m \u001b[0mnumbers\u001b[0m \u001b[0;34m=\u001b[0m \u001b[0;34m(\u001b[0m\u001b[0;36m10\u001b[0m\u001b[0;34m,\u001b[0m \u001b[0;36m15\u001b[0m\u001b[0;34m,\u001b[0m \u001b[0;36m29\u001b[0m\u001b[0;34m,\u001b[0m \u001b[0;36m30\u001b[0m\u001b[0;34m)\u001b[0m\u001b[0;34m\u001b[0m\u001b[0;34m\u001b[0m\u001b[0m\n\u001b[0;32m----> 2\u001b[0;31m \u001b[0mnumbers\u001b[0m\u001b[0;34m.\u001b[0m\u001b[0mindex\u001b[0m\u001b[0;34m(\u001b[0m\u001b[0;34m[\u001b[0m\u001b[0;36m3\u001b[0m\u001b[0;34m]\u001b[0m\u001b[0;34m)\u001b[0m\u001b[0;34m\u001b[0m\u001b[0;34m\u001b[0m\u001b[0m\n\u001b[0m\u001b[1;32m      3\u001b[0m \u001b[0mprint\u001b[0m\u001b[0;34m(\u001b[0m\u001b[0mnumbers\u001b[0m\u001b[0;34m)\u001b[0m\u001b[0;34m\u001b[0m\u001b[0;34m\u001b[0m\u001b[0m\n",
            "\u001b[0;31mValueError\u001b[0m: tuple.index(x): x not in tuple"
          ]
        }
      ]
    },
    {
      "cell_type": "code",
      "source": [
        "def even_or_odd():\n",
        "  number = int(input(\"Enter a number: \"))\n",
        "\n",
        "  if number % 2 == 0:\n",
        "     print(\"This is even\")\n",
        "  else:\n",
        "     print(\"this is odd\")\n",
        "\n",
        "even_or_odd()"
      ],
      "metadata": {
        "colab": {
          "base_uri": "https://localhost:8080/"
        },
        "id": "-op9_yaL22nr",
        "outputId": "1520dc96-cb60-4b2d-ce11-62aab40cafef"
      },
      "execution_count": null,
      "outputs": [
        {
          "output_type": "stream",
          "name": "stdout",
          "text": [
            "Enter a number: 77\n",
            "this is odd\n"
          ]
        }
      ]
    },
    {
      "cell_type": "code",
      "source": [
        "# defining a function that takes in a name as a parameter and prints with hello\n",
        "def greeting():\n",
        "  name = input(\"Enter your name\")\n",
        "  print(\"Hello, \" + name + \" nice to meet you!\")\n",
        "greeting()"
      ],
      "metadata": {
        "colab": {
          "base_uri": "https://localhost:8080/"
        },
        "id": "vVPVYcSCYJbe",
        "outputId": "a627171f-f5bd-4116-c345-8e4b8fd3f223"
      },
      "execution_count": null,
      "outputs": [
        {
          "output_type": "stream",
          "name": "stdout",
          "text": [
            "Enter your nameBuchi\n",
            "Hello, Buchi nice to meet you!\n"
          ]
        }
      ]
    },
    {
      "cell_type": "code",
      "source": [
        "def greeting(name):\n",
        "  print(\"Hello, \" + name + \" nice to meet you\")\n",
        "greeting(\"Buchi\")"
      ],
      "metadata": {
        "colab": {
          "base_uri": "https://localhost:8080/"
        },
        "id": "5KwGbsmgZV4z",
        "outputId": "e911bb9b-40fc-464e-ec8d-34bcf2205189"
      },
      "execution_count": null,
      "outputs": [
        {
          "output_type": "stream",
          "name": "stdout",
          "text": [
            "Hello, Buchi nice to meet you\n"
          ]
        }
      ]
    },
    {
      "cell_type": "code",
      "source": [
        "# using a for loop to print \"for loops are awesome!\n",
        "for x in range(10):\n",
        "  print(\"For loops are awesome\")\n",
        "  "
      ],
      "metadata": {
        "colab": {
          "base_uri": "https://localhost:8080/"
        },
        "id": "_P0VIPYLaMkn",
        "outputId": "a4e1f8f8-db3c-4f3f-97aa-3d1db271aae1"
      },
      "execution_count": null,
      "outputs": [
        {
          "output_type": "stream",
          "name": "stdout",
          "text": [
            "For loops are awesome\n",
            "For loops are awesome\n",
            "For loops are awesome\n",
            "For loops are awesome\n",
            "For loops are awesome\n",
            "For loops are awesome\n",
            "For loops are awesome\n",
            "For loops are awesome\n",
            "For loops are awesome\n",
            "For loops are awesome\n"
          ]
        }
      ]
    },
    {
      "cell_type": "code",
      "source": [
        ""
      ],
      "metadata": {
        "id": "IM_Om32JnZZM"
      },
      "execution_count": null,
      "outputs": []
    },
    {
      "cell_type": "code",
      "source": [
        "def check_length():\n",
        "  given_password = input(\"Put in your password:\")\n",
        "  if len(given_password)<= 8:\n",
        "    print(\"The password is stong\")\n",
        "  else:\n",
        "    print(\"The password is weak\")\n",
        "check_length()"
      ],
      "metadata": {
        "colab": {
          "base_uri": "https://localhost:8080/"
        },
        "id": "dB6beQIR7nHf",
        "outputId": "3cb2f74c-cc66-4f33-e750-18123da0eee9"
      },
      "execution_count": null,
      "outputs": [
        {
          "output_type": "stream",
          "name": "stdout",
          "text": [
            "Put in your password:hfbldjgnfghlknliusrhgwejhrg\n",
            "The password is weak\n"
          ]
        }
      ]
    },
    {
      "cell_type": "code",
      "source": [
        "def check_length(given_password):\n",
        "  if len(given_password)>=8:\n",
        "    return True\n",
        "  else:\n",
        "    return False\n",
        "check_length(\"Theo.\")"
      ],
      "metadata": {
        "colab": {
          "base_uri": "https://localhost:8080/"
        },
        "id": "fEFIgxoj9lHX",
        "outputId": "900b6814-6773-43d5-fa1c-b68c403726cb"
      },
      "execution_count": null,
      "outputs": [
        {
          "output_type": "execute_result",
          "data": {
            "text/plain": [
              "False"
            ]
          },
          "metadata": {},
          "execution_count": 6
        }
      ]
    },
    {
      "cell_type": "code",
      "source": [
        "def request_password():\n",
        "  given_password = input(\"Enter a password\")\n",
        "  if"
      ],
      "metadata": {
        "id": "UbIJc0jW-1VW"
      },
      "execution_count": null,
      "outputs": []
    }
  ]
}