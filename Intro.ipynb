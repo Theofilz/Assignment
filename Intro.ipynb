{
  "nbformat": 4,
  "nbformat_minor": 0,
  "metadata": {
    "colab": {
      "name": "Intro.ipynb",
      "provenance": [],
      "authorship_tag": "ABX9TyOSr4luv9+o/rGFrshzzM+7",
      "include_colab_link": true
    },
    "kernelspec": {
      "name": "python3",
      "display_name": "Python 3"
    },
    "language_info": {
      "name": "python"
    }
  },
  "cells": [
    {
      "cell_type": "markdown",
      "metadata": {
        "id": "view-in-github",
        "colab_type": "text"
      },
      "source": [
        "<a href=\"https://colab.research.google.com/github/Theofilz/Assignment/blob/main/Intro.ipynb\" target=\"_parent\"><img src=\"https://colab.research.google.com/assets/colab-badge.svg\" alt=\"Open In Colab\"/></a>"
      ]
    },
    {
      "cell_type": "code",
      "source": [
        "# 3 variables that do NOT have the correct naming convention\n",
        "Maximum_number = 100\n",
        "2maximum_number = 100\n",
        "maximum_Number = 100"
      ],
      "metadata": {
        "id": "V5w7rOLnjgnR"
      },
      "execution_count": null,
      "outputs": []
    },
    {
      "cell_type": "code",
      "source": [
        "# 3 variables that do have the correct naming convention\n",
        "maximum_number = 100\n",
        "name = 'Peter'\n",
        "is_tall = True\n"
      ],
      "metadata": {
        "id": "hYPsjLtGhQeF"
      },
      "execution_count": null,
      "outputs": []
    },
    {
      "cell_type": "code",
      "source": [
        "# 2 examples of an integer\n",
        "number_of_persons = 20\n",
        "age = 60\n"
      ],
      "metadata": {
        "id": "imDHOSkAnY1T"
      },
      "execution_count": null,
      "outputs": []
    },
    {
      "cell_type": "code",
      "source": [
        "# 2 examples of a float\n",
        "height = 132.3\n",
        "weight = 65.3"
      ],
      "metadata": {
        "id": "jX-KvZlKobtH"
      },
      "execution_count": null,
      "outputs": []
    },
    {
      "cell_type": "code",
      "source": [
        "# 2 examples of string\n",
        "name = 'Peter'\n",
        "color = \"red\""
      ],
      "metadata": {
        "id": "46qksjI3rKuS"
      },
      "execution_count": null,
      "outputs": []
    },
    {
      "cell_type": "code",
      "source": [
        "# 2 examples of boolean\n",
        "is_tall = True\n",
        "not_good = False"
      ],
      "metadata": {
        "id": "HS1_f3XFruBl"
      },
      "execution_count": null,
      "outputs": []
    },
    {
      "cell_type": "code",
      "source": [
        "#example of addition\n",
        "print(1 + 2)"
      ],
      "metadata": {
        "colab": {
          "base_uri": "https://localhost:8080/"
        },
        "id": "iyOl0-RGsIzC",
        "outputId": "fd916004-adba-4cfb-d616-68dfb8ce030b"
      },
      "execution_count": 2,
      "outputs": [
        {
          "output_type": "stream",
          "name": "stdout",
          "text": [
            "3\n"
          ]
        }
      ]
    },
    {
      "cell_type": "code",
      "source": [
        "# example of subtraction\n",
        "print(20 - 15)"
      ],
      "metadata": {
        "colab": {
          "base_uri": "https://localhost:8080/"
        },
        "id": "ItGODYvBsWGa",
        "outputId": "cb40cec9-7235-4fd0-bf61-9789206f6b48"
      },
      "execution_count": 3,
      "outputs": [
        {
          "output_type": "stream",
          "name": "stdout",
          "text": [
            "5\n"
          ]
        }
      ]
    },
    {
      "cell_type": "code",
      "source": [
        "# example of multiplication\n",
        "print(12 * 2)"
      ],
      "metadata": {
        "colab": {
          "base_uri": "https://localhost:8080/"
        },
        "id": "h2lxbXUAsgLJ",
        "outputId": "601f87df-cd1c-4853-88ad-ca83d05d03ec"
      },
      "execution_count": 4,
      "outputs": [
        {
          "output_type": "stream",
          "name": "stdout",
          "text": [
            "24\n"
          ]
        }
      ]
    },
    {
      "cell_type": "code",
      "source": [
        "# example of division\n",
        "print(24 / 4)"
      ],
      "metadata": {
        "colab": {
          "base_uri": "https://localhost:8080/"
        },
        "id": "dzVuh7pDssrA",
        "outputId": "7d5ce8a3-d271-492c-a0be-3f2a76904091"
      },
      "execution_count": 5,
      "outputs": [
        {
          "output_type": "stream",
          "name": "stdout",
          "text": [
            "6.0\n"
          ]
        }
      ]
    },
    {
      "cell_type": "code",
      "source": [
        "# example of modulo\n",
        "print(20 % 18)"
      ],
      "metadata": {
        "colab": {
          "base_uri": "https://localhost:8080/"
        },
        "id": "AxStRso8s2-g",
        "outputId": "410e8a38-5896-4f35-f99c-cbfacde0ed83"
      },
      "execution_count": 6,
      "outputs": [
        {
          "output_type": "stream",
          "name": "stdout",
          "text": [
            "2\n"
          ]
        }
      ]
    },
    {
      "cell_type": "code",
      "source": [
        "# example of exponential\n",
        "print(5 ** 5)"
      ],
      "metadata": {
        "colab": {
          "base_uri": "https://localhost:8080/"
        },
        "id": "FYmcv5sWtFop",
        "outputId": "c2caca00-93b1-4ada-e7a0-519813a303ba"
      },
      "execution_count": 7,
      "outputs": [
        {
          "output_type": "stream",
          "name": "stdout",
          "text": [
            "3125\n"
          ]
        }
      ]
    }
  ]
}