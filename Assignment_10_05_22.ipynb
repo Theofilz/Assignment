{
  "nbformat": 4,
  "nbformat_minor": 0,
  "metadata": {
    "colab": {
      "name": "Assignment  10.05.22.ipynb",
      "provenance": [],
      "authorship_tag": "ABX9TyP7Yf8hOWYXZ9aFhYBbVUhG",
      "include_colab_link": true
    },
    "kernelspec": {
      "name": "python3",
      "display_name": "Python 3"
    },
    "language_info": {
      "name": "python"
    }
  },
  "cells": [
    {
      "cell_type": "markdown",
      "metadata": {
        "id": "view-in-github",
        "colab_type": "text"
      },
      "source": [
        "<a href=\"https://colab.research.google.com/github/Theofilz/Assignment/blob/main/Assignment_10_05_22.ipynb\" target=\"_parent\"><img src=\"https://colab.research.google.com/assets/colab-badge.svg\" alt=\"Open In Colab\"/></a>"
      ]
    },
    {
      "cell_type": "code",
      "execution_count": 1,
      "metadata": {
        "colab": {
          "base_uri": "https://localhost:8080/"
        },
        "id": "_B_mdd8ckZee",
        "outputId": "d79f9377-2b28-4dfc-8180-98c1dbd0a80e"
      },
      "outputs": [
        {
          "output_type": "stream",
          "name": "stdout",
          "text": [
            "(1, 2, 3, 4, 8, 7, 6, 5)\n"
          ]
        }
      ],
      "source": [
        "numbers = (1, 2, 3, 4)\n",
        "numbers_2 = (8, 7, 6, 5)\n",
        "numbers_3 = (numbers + numbers_2)\n",
        "print(numbers_3)"
      ]
    },
    {
      "cell_type": "code",
      "source": [
        "numbers_4 = sorted(numbers_3)\n",
        "print(numbers_4)"
      ],
      "metadata": {
        "colab": {
          "base_uri": "https://localhost:8080/"
        },
        "id": "sMuX33xyHyAS",
        "outputId": "773ccf45-69e7-4704-f021-ce92daa39113"
      },
      "execution_count": 3,
      "outputs": [
        {
          "output_type": "stream",
          "name": "stdout",
          "text": [
            "[1, 2, 3, 4, 5, 6, 7, 8]\n"
          ]
        }
      ]
    },
    {
      "cell_type": "code",
      "source": [
        "numbers_5 = tuple(numbers_4)\n",
        "print(numbers_5)"
      ],
      "metadata": {
        "colab": {
          "base_uri": "https://localhost:8080/"
        },
        "id": "FUBmuvlWIS52",
        "outputId": "db077dc3-e68a-4b22-a205-ff09ac3b4db8"
      },
      "execution_count": 4,
      "outputs": [
        {
          "output_type": "stream",
          "name": "stdout",
          "text": [
            "(1, 2, 3, 4, 5, 6, 7, 8)\n"
          ]
        }
      ]
    },
    {
      "cell_type": "code",
      "source": [
        "print(numbers_5[-1])"
      ],
      "metadata": {
        "colab": {
          "base_uri": "https://localhost:8080/"
        },
        "id": "X0M8qCvIIrdh",
        "outputId": "777bbedc-313f-4508-f11c-bff0b266ca31"
      },
      "execution_count": 5,
      "outputs": [
        {
          "output_type": "stream",
          "name": "stdout",
          "text": [
            "8\n"
          ]
        }
      ]
    },
    {
      "cell_type": "code",
      "source": [
        "print(numbers_5[-3:])"
      ],
      "metadata": {
        "colab": {
          "base_uri": "https://localhost:8080/"
        },
        "id": "xQMc65npI6m0",
        "outputId": "eb36d68c-da50-4335-e6c7-0cbbc365fd7d"
      },
      "execution_count": 6,
      "outputs": [
        {
          "output_type": "stream",
          "name": "stdout",
          "text": [
            "(6, 7, 8)\n"
          ]
        }
      ]
    }
  ]
}