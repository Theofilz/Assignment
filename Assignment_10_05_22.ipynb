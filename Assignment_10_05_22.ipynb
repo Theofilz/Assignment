{
  "nbformat": 4,
  "nbformat_minor": 0,
  "metadata": {
    "colab": {
      "name": "Assignment 10.05.22.ipynb",
      "provenance": [],
      "authorship_tag": "ABX9TyNnQMzFatJN6fEVj1O7uEt1",
      "include_colab_link": true
    },
    "kernelspec": {
      "name": "python3",
      "display_name": "Python 3"
    },
    "language_info": {
      "name": "python"
    }
  },
  "cells": [
    {
      "cell_type": "markdown",
      "metadata": {
        "id": "view-in-github",
        "colab_type": "text"
      },
      "source": [
        "<a href=\"https://colab.research.google.com/github/Theofilz/Assignment/blob/main/Assignment_10_05_22.ipynb\" target=\"_parent\"><img src=\"https://colab.research.google.com/assets/colab-badge.svg\" alt=\"Open In Colab\"/></a>"
      ]
    },
    {
      "cell_type": "code",
      "execution_count": 1,
      "metadata": {
        "colab": {
          "base_uri": "https://localhost:8080/",
          "height": 0
        },
        "id": "i0gHv61v3lOx",
        "outputId": "540a45e4-6d4c-4189-a6c6-39f31ab91d78"
      },
      "outputs": [
        {
          "output_type": "stream",
          "name": "stdout",
          "text": [
            "['banana', 'cheese', 'apple', 'rice', 'water']\n"
          ]
        }
      ],
      "source": [
        "# shopping list of all I need to buy.\n",
        "shopping_list = [\"banana\", \"cheese\", \"apple\", \"rice\", \"water\"]\n",
        "print(shopping_list)"
      ]
    },
    {
      "cell_type": "code",
      "source": [
        "#creating dictionary of inventory\n",
        "shop_inventory = {\n",
        "    \"banana\" : 2000,\n",
        "    \"cheese\" : 3000,\n",
        "    \"apple\" : 4000,\n",
        "    \"rice\" : 5000,\n",
        "    \"water\" : 6000\n",
        "    }\n",
        "print(shop_inventory)"
      ],
      "metadata": {
        "colab": {
          "base_uri": "https://localhost:8080/",
          "height": 0
        },
        "id": "lEJ4Ync8Y7AL",
        "outputId": "2f5aec90-c6b4-4956-fc35-949311b3ffee"
      },
      "execution_count": 2,
      "outputs": [
        {
          "output_type": "stream",
          "name": "stdout",
          "text": [
            "{'banana': 2000, 'cheese': 3000, 'apple': 4000, 'rice': 5000, 'water': 6000}\n"
          ]
        }
      ]
    },
    {
      "cell_type": "code",
      "source": [
        "inventory_prices = {\n",
        "    \"banana\" : 100.3,\n",
        "    \"cheese\" : 200.99,\n",
        "    \"apple\" : 250.99,\n",
        "    \"rice\" : 240,\n",
        "    \"water\" : 400\n",
        "}\n",
        "values = inventory_prices.values()\n",
        "total = sum(values)\n",
        "print(total)"
      ],
      "metadata": {
        "colab": {
          "base_uri": "https://localhost:8080/",
          "height": 0
        },
        "id": "a2969f7BbcLz",
        "outputId": "89e2cea6-8a14-413e-fc3b-3ad3a27b178d"
      },
      "execution_count": 3,
      "outputs": [
        {
          "output_type": "stream",
          "name": "stdout",
          "text": [
            "1192.28\n"
          ]
        }
      ]
    }
  ]
}