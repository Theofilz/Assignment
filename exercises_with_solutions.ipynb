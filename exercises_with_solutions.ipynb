{
  "nbformat": 4,
  "nbformat_minor": 0,
  "metadata": {
    "colab": {
      "name": "exercises with solutions.ipynb",
      "provenance": [],
      "include_colab_link": true
    },
    "kernelspec": {
      "name": "python3",
      "display_name": "Python 3"
    },
    "language_info": {
      "name": "python"
    }
  },
  "cells": [
    {
      "cell_type": "markdown",
      "metadata": {
        "id": "view-in-github",
        "colab_type": "text"
      },
      "source": [
        "<a href=\"https://colab.research.google.com/github/Theofilz/Assignment/blob/main/exercises_with_solutions.ipynb\" target=\"_parent\"><img src=\"https://colab.research.google.com/assets/colab-badge.svg\" alt=\"Open In Colab\"/></a>"
      ]
    },
    {
      "cell_type": "markdown",
      "source": [
        "**#01 Exercise: Combine lists**\n",
        "\n",
        "Combine the two given lists into a new list called *healthy_food*."
      ],
      "metadata": {
        "id": "sgvN4YIeHKCM"
      }
    },
    {
      "cell_type": "code",
      "source": [
        "fruits = [\"apple\", \"banana\", \"pineapple\", \"grapes\", \"pear\", \"watermelon\"]\n",
        "vegetables = [\"cucumber\", \"tomato\", \"eggplant\", \"corn\", \"peas\", \"zucchini\"]\n",
        "\n",
        "healthy_food = fruits + vegetables\n",
        "print(healthy_food)"
      ],
      "metadata": {
        "id": "tqAZJ03SWm5L",
        "colab": {
          "base_uri": "https://localhost:8080/"
        },
        "outputId": "6ba92f22-46e3-44e9-c2b0-2d6c48309cde"
      },
      "execution_count": null,
      "outputs": [
        {
          "output_type": "stream",
          "name": "stdout",
          "text": [
            "['apple', 'banana', 'pineapple', 'grapes', 'pear', 'watermelon', 'cucumber', 'tomato', 'eggplant', 'corn', 'peas', 'zucchini']\n"
          ]
        }
      ]
    },
    {
      "cell_type": "markdown",
      "source": [
        "**#02 Exercise: 2D - lists**\n",
        "\n",
        "Create a 2D-list that contains at least three items and their price.\n",
        "\n",
        "- Oops, you forgot one item! Add \"banana\" and its price 2.99 to your list.\n",
        "\n",
        "- The price for bananas has changed! Set the price of banana to 3.50.\n",
        "\n",
        "- Insert \"apple\" (price: 1.50) as the second item to your list."
      ],
      "metadata": {
        "id": "mBxfD8LkDDLA"
      }
    },
    {
      "cell_type": "code",
      "source": [
        "list = [[\"pineapple\", 4.50], [\"grapes\", 3.99], [\"watermelon\", 5.99]]\n",
        "\n",
        "list.append([\"banana\", 2.99])\n",
        "list[3][1] = 3.50\n",
        "list.insert(1, [\"apple\", 1.50])\n",
        "\n",
        "print(list)"
      ],
      "metadata": {
        "colab": {
          "base_uri": "https://localhost:8080/"
        },
        "id": "G1w2jzuSX0fD",
        "outputId": "70e2b04b-8df0-42eb-ca88-2f9e789e1c32"
      },
      "execution_count": null,
      "outputs": [
        {
          "output_type": "stream",
          "name": "stdout",
          "text": [
            "[['pineapple', 4.5], ['apple', 1.5], ['grapes', 3.99], ['watermelon', 5.99], ['banana', 3.5]]\n"
          ]
        }
      ]
    },
    {
      "cell_type": "markdown",
      "source": [
        "**#03 Exercise: Coordinates**\n",
        "\n",
        "Degine a function that takes in a coordinate (containing a x and y value) and stores them in a tuple."
      ],
      "metadata": {
        "id": "IWTx2bCsCcGF"
      }
    },
    {
      "cell_type": "code",
      "source": [
        "def convert_to_tuple(x, y):\n",
        "  return (x, y)\n",
        "\n",
        "print(convert_to_tuple(3, 5))"
      ],
      "metadata": {
        "colab": {
          "base_uri": "https://localhost:8080/"
        },
        "id": "Ror4vYwsZGXg",
        "outputId": "cf7781aa-4ac5-4ce4-9c1a-852d7f391a98"
      },
      "execution_count": null,
      "outputs": [
        {
          "output_type": "stream",
          "name": "stdout",
          "text": [
            "(3, 5)\n"
          ]
        }
      ]
    },
    {
      "cell_type": "markdown",
      "source": [
        "**#04 Exercise: Convert list to dictionary**\n",
        "\n",
        "Convert the 2D list from the second exercise into a dictionary"
      ],
      "metadata": {
        "id": "XgGKtJKwEalj"
      }
    },
    {
      "cell_type": "code",
      "source": [
        "dictionary = {key: value for key, value in list}\n",
        "\n",
        "print(dictionary)"
      ],
      "metadata": {
        "colab": {
          "base_uri": "https://localhost:8080/"
        },
        "id": "cuqeYv-IZanh",
        "outputId": "9ca39463-7815-4a39-80d1-5930d01a6271"
      },
      "execution_count": null,
      "outputs": [
        {
          "output_type": "stream",
          "name": "stdout",
          "text": [
            "{'pineapple': 4.5, 'apple': 1.5, 'grapes': 3.99, 'watermelon': 5.99, 'banana': 3.5}\n"
          ]
        }
      ]
    },
    {
      "cell_type": "markdown",
      "source": [
        "**#05 Exercise: Scrabble**\n",
        "\n",
        "1. Complete the following dictionary that contains the letters of the alphabet and a score for each letter.\n",
        "\n",
        "2. Define a function that takes in a word and returns a total score based on the score for each letter in that word (based on the dictionary)\n",
        "\n",
        "\n",
        "**BONUS:** Modify your function so it can handle lowercase input as well."
      ],
      "metadata": {
        "id": "pgl418S0Ex9T"
      }
    },
    {
      "cell_type": "code",
      "source": [
        "letters_and_scores = {\n",
        "    \"A\":1, \"B\":2, \"C\":3, \"D\":2, \"E\":1, \"F\":2, \"G\":2, \"H\":3, \"I\":1, \"J\":3, \"K\":3, \"L\":2, \"M\":2, \"N\":2, \"O\":1, \"P\":3,\n",
        "    \"Q\":5,\n",
        "    \"R\":3,\n",
        "    \"S\":2,\n",
        "    \"T\":2,\n",
        "    \"U\":3,\n",
        "    \"V\":4,\n",
        "    \"W\":3,\n",
        "    \"X\":5,\n",
        "    \"Y\":6,\n",
        "    \"Z\":5\n",
        "}\n",
        "\n",
        "def get_score(word):\n",
        "  total_score = 0\n",
        "  for letter in word:\n",
        "    total_score += letters_and_scores[letter.upper()]\n",
        "  return total_score\n",
        "\n",
        "print(get_score(\"Python\"))"
      ],
      "metadata": {
        "id": "T4J96iYXSMJs",
        "colab": {
          "base_uri": "https://localhost:8080/"
        },
        "outputId": "cdba562a-b66f-44f8-bd56-62ae47876d6e"
      },
      "execution_count": null,
      "outputs": [
        {
          "output_type": "stream",
          "name": "stdout",
          "text": [
            "17\n"
          ]
        }
      ]
    },
    {
      "cell_type": "code",
      "source": [
        "import random\n",
        "def guess_number():\n",
        "  guessedNumber = random.randint(0,100)\n",
        "  print(guessedNumber)\n",
        "\n",
        "  while True:\n",
        "    userInput = int(input(\"Guess a number: \"))\n",
        "    if userInput ==guessedNumber:\n",
        "      print(\"That is correct: Congrats!\")\n",
        "      break\n",
        "    else:\n",
        "      print(\"I'm sorry, but that is not the correct number\")\n",
        "\n",
        "\n",
        "guess_number()"
      ],
      "metadata": {
        "id": "VorToQPFIgIy",
        "outputId": "036881e5-1eb2-46fb-b840-fe59aa83d304",
        "colab": {
          "base_uri": "https://localhost:8080/"
        }
      },
      "execution_count": 4,
      "outputs": [
        {
          "output_type": "stream",
          "name": "stdout",
          "text": [
            "60\n",
            "Guess a number: 59\n",
            "I'm sorry, but that is not the correct number\n",
            "Guess a number: 60\n",
            "That is correct: Congrats!\n"
          ]
        }
      ]
    }
  ]
}