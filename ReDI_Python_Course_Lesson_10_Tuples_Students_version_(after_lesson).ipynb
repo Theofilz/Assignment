{
  "nbformat": 4,
  "nbformat_minor": 0,
  "metadata": {
    "colab": {
      "name": "ReDI Python Course Lesson 10 - Tuples - Students version (after lesson).ipynb",
      "provenance": [],
      "collapsed_sections": [],
      "include_colab_link": true
    },
    "kernelspec": {
      "name": "python3",
      "display_name": "Python 3"
    },
    "language_info": {
      "name": "python"
    }
  },
  "cells": [
    {
      "cell_type": "markdown",
      "metadata": {
        "id": "view-in-github",
        "colab_type": "text"
      },
      "source": [
        "<a href=\"https://colab.research.google.com/github/Theofilz/Assignment/blob/main/ReDI_Python_Course_Lesson_10_Tuples_Students_version_(after_lesson).ipynb\" target=\"_parent\"><img src=\"https://colab.research.google.com/assets/colab-badge.svg\" alt=\"Open In Colab\"/></a>"
      ]
    },
    {
      "cell_type": "markdown",
      "source": [
        "# Homework from lesson 9\n",
        "* Create shopping_list, with list of all the things that you need to buy, e.g. cheese, apple and banana.  \n",
        "* Create dictionary shop, where keys are product names, e.g. apple or banana, and values is how many items there are in the shop.  \n",
        "* Create dictionary prices, where keys are products and values are prices of the products.  \n",
        "* Calculate the remaining number of items in the shop and calculate a price of products from your shopping list.\n",
        "\n"
      ],
      "metadata": {
        "id": "g-pgSWTbyCGS"
      }
    },
    {
      "cell_type": "code",
      "source": [
        "shopping_list = ['apple', 'banana', 'coffee']\n",
        "shop = {'apple': 100, 'banana': 200, 'coffee': 50}\n",
        "prices = {'apple': 2.99, 'banana': 1.49, 'coffee': 19.99}\n",
        "total_price = 0\n",
        "for item in shopping_list:\n",
        "  shop[item] = shop[item] - 1\n",
        "  total_price = total_price + prices[item]\n",
        "print('The shop contains these quantities of items:', shop)\n",
        "print('The total price for your shopping list is:', total_price)"
      ],
      "metadata": {
        "colab": {
          "base_uri": "https://localhost:8080/"
        },
        "id": "Kjef3qBEyCQP",
        "outputId": "7ba37490-712c-4e69-ca3d-458a11c3a574"
      },
      "execution_count": null,
      "outputs": [
        {
          "output_type": "stream",
          "name": "stdout",
          "text": [
            "The shop contains these quantities of items: {'apple': 99, 'banana': 199, 'coffee': 49}\n",
            "The total price for your shopping list is: 24.47\n"
          ]
        }
      ]
    },
    {
      "cell_type": "markdown",
      "source": [
        "# Recap of dictionaries and sets"
      ],
      "metadata": {
        "id": "ADFxFuDwZze3"
      }
    },
    {
      "cell_type": "markdown",
      "source": [
        "### Dictionaries\n",
        "* What is a dictionary?\n",
        "* How do you define a dictionary?\n",
        "* How do you get elements of a dictionary?\n",
        "* How do you add an element to a dictionary?\n",
        "* How do you remove a element from a dictionary?"
      ],
      "metadata": {
        "id": "g_w6zO9vKFDe"
      }
    },
    {
      "cell_type": "code",
      "source": [
        "# define\n",
        "my_dict = {'animal': 'cat', 'food': 'pizza', 'drink': 'beer'}\n",
        "print(my_dict)"
      ],
      "metadata": {
        "id": "U8NebrFdZzoA",
        "colab": {
          "base_uri": "https://localhost:8080/"
        },
        "outputId": "4c1587b2-1a22-43d0-affe-f1061dd08440"
      },
      "execution_count": null,
      "outputs": [
        {
          "output_type": "stream",
          "name": "stdout",
          "text": [
            "{'animal': 'cat', 'food': 'pizza', 'drink': 'beer'}\n"
          ]
        }
      ]
    },
    {
      "cell_type": "code",
      "source": [
        "# get element\n",
        "my_dict.get('animal')"
      ],
      "metadata": {
        "colab": {
          "base_uri": "https://localhost:8080/",
          "height": 35
        },
        "id": "lAZFgvNmKxps",
        "outputId": "677679d5-f1a0-4008-c140-418607d23372"
      },
      "execution_count": null,
      "outputs": [
        {
          "output_type": "execute_result",
          "data": {
            "text/plain": [
              "'cat'"
            ],
            "application/vnd.google.colaboratory.intrinsic+json": {
              "type": "string"
            }
          },
          "metadata": {},
          "execution_count": 3
        }
      ]
    },
    {
      "cell_type": "code",
      "source": [
        "# add\n",
        "my_dict['hobby'] = 'cycling'\n",
        "print(my_dict)"
      ],
      "metadata": {
        "colab": {
          "base_uri": "https://localhost:8080/"
        },
        "id": "wAnLa4X5Kxxy",
        "outputId": "276ad053-0f0b-4d2a-9c4b-65c54ed99f04"
      },
      "execution_count": null,
      "outputs": [
        {
          "output_type": "stream",
          "name": "stdout",
          "text": [
            "{'animal': 'cat', 'food': 'pizza', 'drink': 'beer', 'hobby': 'cycling'}\n"
          ]
        }
      ]
    },
    {
      "cell_type": "code",
      "source": [
        "# remove\n",
        "my_dict.pop('food')\n",
        "print(my_dict)"
      ],
      "metadata": {
        "colab": {
          "base_uri": "https://localhost:8080/"
        },
        "id": "YtOwj-GGKx3G",
        "outputId": "15f00fbf-64a7-4985-98be-cb9ce4da4cd7"
      },
      "execution_count": null,
      "outputs": [
        {
          "output_type": "stream",
          "name": "stdout",
          "text": [
            "{'animal': 'cat', 'drink': 'beer', 'hobby': 'cycling'}\n"
          ]
        }
      ]
    },
    {
      "cell_type": "markdown",
      "source": [
        "### Sets\n",
        "* What is a set?\n",
        "* How do you define a set?\n",
        "* How do you get elements of a set?\n",
        "* How do you add a element to a set?\n",
        "* How do you remove a element from a set?\n"
      ],
      "metadata": {
        "id": "jRZA_yuxK2Pr"
      }
    },
    {
      "cell_type": "code",
      "source": [
        "# define\n",
        "my_set = {1, 2, 3, 4, 5, 5, 5}\n",
        "print(my_set)"
      ],
      "metadata": {
        "colab": {
          "base_uri": "https://localhost:8080/"
        },
        "id": "4ZxYxg0eK1kr",
        "outputId": "937a6b05-be02-490f-d49d-6dc02ad51b61"
      },
      "execution_count": null,
      "outputs": [
        {
          "output_type": "stream",
          "name": "stdout",
          "text": [
            "{1, 2, 3, 4, 5}\n"
          ]
        }
      ]
    },
    {
      "cell_type": "code",
      "source": [
        "# get element\n",
        "for item in my_set:\n",
        "  print(item)"
      ],
      "metadata": {
        "colab": {
          "base_uri": "https://localhost:8080/"
        },
        "id": "EJvdGhTCLE27",
        "outputId": "1fcfc638-2427-4b7b-967e-cdec55b84062"
      },
      "execution_count": null,
      "outputs": [
        {
          "output_type": "stream",
          "name": "stdout",
          "text": [
            "1\n",
            "2\n",
            "3\n",
            "4\n",
            "5\n"
          ]
        }
      ]
    },
    {
      "cell_type": "code",
      "source": [
        "# add\n",
        "my_set.add(42)\n",
        "print(my_set)"
      ],
      "metadata": {
        "colab": {
          "base_uri": "https://localhost:8080/"
        },
        "id": "LcQQF88dLE7c",
        "outputId": "01ff5df0-a8ae-4463-ed1d-700c2e325d30"
      },
      "execution_count": null,
      "outputs": [
        {
          "output_type": "stream",
          "name": "stdout",
          "text": [
            "{1, 2, 3, 4, 5, 42}\n"
          ]
        }
      ]
    },
    {
      "cell_type": "code",
      "source": [
        "# remove\n",
        "my_set.remove(4)  # you may also use my_set.pop()\n",
        "print(my_set)"
      ],
      "metadata": {
        "colab": {
          "base_uri": "https://localhost:8080/"
        },
        "id": "vTG6dEZmLFBB",
        "outputId": "555b856f-2703-4fd9-bc8a-734cd22a7aab"
      },
      "execution_count": null,
      "outputs": [
        {
          "output_type": "stream",
          "name": "stdout",
          "text": [
            "{1, 2, 3, 5, 42}\n"
          ]
        }
      ]
    },
    {
      "cell_type": "code",
      "source": [
        "my_set.pop()\n",
        "print(my_set)"
      ],
      "metadata": {
        "colab": {
          "base_uri": "https://localhost:8080/"
        },
        "id": "Tz0ZjX--LjJl",
        "outputId": "b1500fd3-e822-4d1e-909c-b2b156099001"
      },
      "execution_count": null,
      "outputs": [
        {
          "output_type": "stream",
          "name": "stdout",
          "text": [
            "{2, 3, 5, 42}\n"
          ]
        }
      ]
    },
    {
      "cell_type": "markdown",
      "source": [
        "# Tuples\n",
        "\n",
        "Python has another sequence type which is called tuple.  \n",
        "We define a tuple literal by putting a comma-separated list of values inside round brackets, ( and ):"
      ],
      "metadata": {
        "id": "05h4Zwxh0pzK"
      }
    },
    {
      "cell_type": "code",
      "source": [
        "empty_tuple = ()\n",
        "print(empty_tuple)"
      ],
      "metadata": {
        "id": "guxeNGZbxbdM",
        "colab": {
          "base_uri": "https://localhost:8080/"
        },
        "outputId": "fabf8c1d-3eaa-4dfe-84b4-f3e7100511d6"
      },
      "execution_count": null,
      "outputs": [
        {
          "output_type": "stream",
          "name": "stdout",
          "text": [
            "()\n"
          ]
        }
      ]
    },
    {
      "cell_type": "code",
      "source": [
        "weekdays = ('Monday', 'Tuesday', 'Wednesday', 'Thursday', 'Friday', 'Saturday', 'Sunday')\n",
        "print(weekdays)"
      ],
      "metadata": {
        "colab": {
          "base_uri": "https://localhost:8080/"
        },
        "id": "xEyvjJdfNMIQ",
        "outputId": "76bc0c84-5e87-4941-a653-1c6918ad13c9"
      },
      "execution_count": null,
      "outputs": [
        {
          "output_type": "stream",
          "name": "stdout",
          "text": [
            "('Monday', 'Tuesday', 'Wednesday', 'Thursday', 'Friday', 'Saturday', 'Sunday')\n"
          ]
        }
      ]
    },
    {
      "cell_type": "code",
      "source": [
        "print(type(weekdays))"
      ],
      "metadata": {
        "colab": {
          "base_uri": "https://localhost:8080/"
        },
        "id": "Xp1v7C--NMl4",
        "outputId": "b121d43c-dbcb-4c3a-dfdd-67f5e9ab02f6"
      },
      "execution_count": null,
      "outputs": [
        {
          "output_type": "stream",
          "name": "stdout",
          "text": [
            "<class 'tuple'>\n"
          ]
        }
      ]
    },
    {
      "cell_type": "markdown",
      "source": [
        "Once a tuple is created, you cannot change its values. Tuples are unchangeable, or immutable as it also is called."
      ],
      "metadata": {
        "id": "pU0eCyWk1KkV"
      }
    },
    {
      "cell_type": "code",
      "source": [
        "weekdays[1] = 'TODAY'  # does not work"
      ],
      "metadata": {
        "colab": {
          "base_uri": "https://localhost:8080/",
          "height": 168
        },
        "id": "oNHLA1Hd1CO0",
        "outputId": "ff5b8765-91e0-4bf2-b854-3cd3e5028648"
      },
      "execution_count": null,
      "outputs": [
        {
          "output_type": "error",
          "ename": "TypeError",
          "evalue": "ignored",
          "traceback": [
            "\u001b[0;31m---------------------------------------------------------------------------\u001b[0m",
            "\u001b[0;31mTypeError\u001b[0m                                 Traceback (most recent call last)",
            "\u001b[0;32m<ipython-input-14-8f437300c2f4>\u001b[0m in \u001b[0;36m<module>\u001b[0;34m()\u001b[0m\n\u001b[0;32m----> 1\u001b[0;31m \u001b[0mweekdays\u001b[0m\u001b[0;34m[\u001b[0m\u001b[0;36m1\u001b[0m\u001b[0;34m]\u001b[0m \u001b[0;34m=\u001b[0m \u001b[0;34m'TODAY'\u001b[0m  \u001b[0;31m# does not work\u001b[0m\u001b[0;34m\u001b[0m\u001b[0;34m\u001b[0m\u001b[0m\n\u001b[0m",
            "\u001b[0;31mTypeError\u001b[0m: 'tuple' object does not support item assignment"
          ]
        }
      ]
    },
    {
      "cell_type": "markdown",
      "source": [
        "If the variable weekdays was a list, this would work, as lists are mutable."
      ],
      "metadata": {
        "id": "DT5QozCuifOu"
      }
    },
    {
      "cell_type": "code",
      "source": [
        "weekdays_as_list = ['Monday', 'Tuesday', 'Wednesday', 'Thursday', 'Friday', 'Saturday', 'Sunday']\n",
        "print(weekdays_as_list)"
      ],
      "metadata": {
        "colab": {
          "base_uri": "https://localhost:8080/"
        },
        "id": "GRguMPPBifWP",
        "outputId": "f0460dd5-4b1d-42b6-b5bc-11d819cff611"
      },
      "execution_count": null,
      "outputs": [
        {
          "output_type": "stream",
          "name": "stdout",
          "text": [
            "['Monday', 'Tuesday', 'Wednesday', 'Thursday', 'Friday', 'Saturday', 'Sunday']\n"
          ]
        }
      ]
    },
    {
      "cell_type": "code",
      "source": [
        "print(type(weekdays_as_list))"
      ],
      "metadata": {
        "colab": {
          "base_uri": "https://localhost:8080/"
        },
        "id": "jnlFbdWMNTqn",
        "outputId": "b4a0b99b-e82b-4193-df5d-77f4dbae47e8"
      },
      "execution_count": null,
      "outputs": [
        {
          "output_type": "stream",
          "name": "stdout",
          "text": [
            "<class 'list'>\n"
          ]
        }
      ]
    },
    {
      "cell_type": "code",
      "source": [
        "weekdays_as_list[1] = 'TODAY'\n",
        "print(weekdays_as_list)"
      ],
      "metadata": {
        "id": "jmujJyXsi13e",
        "colab": {
          "base_uri": "https://localhost:8080/"
        },
        "outputId": "758af2ee-1de8-4e2d-cb02-744b88f33850"
      },
      "execution_count": null,
      "outputs": [
        {
          "output_type": "stream",
          "name": "stdout",
          "text": [
            "['Monday', 'TODAY', 'Wednesday', 'Thursday', 'Friday', 'Saturday', 'Sunday']\n"
          ]
        }
      ]
    },
    {
      "cell_type": "markdown",
      "source": [
        "To create a tuple with only a single entry, you have to give a comma after the entry."
      ],
      "metadata": {
        "id": "swG1th8Y1jUv"
      }
    },
    {
      "cell_type": "code",
      "source": [
        "not_a_tuple = ('no')\n",
        "print(type(not_a_tuple))"
      ],
      "metadata": {
        "colab": {
          "base_uri": "https://localhost:8080/"
        },
        "id": "p3gx7HBQ1Fmj",
        "outputId": "20db5763-1bb5-450a-a440-6a26442da795"
      },
      "execution_count": null,
      "outputs": [
        {
          "output_type": "stream",
          "name": "stdout",
          "text": [
            "<class 'str'>\n"
          ]
        }
      ]
    },
    {
      "cell_type": "code",
      "source": [
        "this_is_a_tuple = ('yes', )\n",
        "print(type(this_is_a_tuple))"
      ],
      "metadata": {
        "colab": {
          "base_uri": "https://localhost:8080/"
        },
        "id": "ueyoGDdT19vP",
        "outputId": "a7212aa6-587d-4aa3-9282-a3de3b6e0aa0"
      },
      "execution_count": null,
      "outputs": [
        {
          "output_type": "stream",
          "name": "stdout",
          "text": [
            "<class 'tuple'>\n"
          ]
        }
      ]
    },
    {
      "cell_type": "markdown",
      "source": [
        "We can create a tuple directly or from an existing list using the tuple() function."
      ],
      "metadata": {
        "id": "mkAv0plz278d"
      }
    },
    {
      "cell_type": "code",
      "source": [
        "animal_tuple = ('cat', 'dog', 'fish')\n",
        "print(animal_tuple)"
      ],
      "metadata": {
        "colab": {
          "base_uri": "https://localhost:8080/"
        },
        "id": "K6oBnY0Y26rl",
        "outputId": "c7cf472e-4191-4719-ed19-ba25958af8a9"
      },
      "execution_count": null,
      "outputs": [
        {
          "output_type": "stream",
          "name": "stdout",
          "text": [
            "('cat', 'dog', 'fish')\n"
          ]
        }
      ]
    },
    {
      "cell_type": "code",
      "source": [
        "animal_list = ['cat', 'dog', 'fish']\n",
        "animal_tuple = tuple(animal_list)\n",
        "print(animal_tuple)"
      ],
      "metadata": {
        "colab": {
          "base_uri": "https://localhost:8080/"
        },
        "id": "t6PbZmMa3IBL",
        "outputId": "464cbcd0-7a68-4900-8de1-3fedde333cac"
      },
      "execution_count": null,
      "outputs": [
        {
          "output_type": "stream",
          "name": "stdout",
          "text": [
            "('cat', 'dog', 'fish')\n"
          ]
        }
      ]
    },
    {
      "cell_type": "markdown",
      "source": [
        "As with lists, you can join tuples via the + operator."
      ],
      "metadata": {
        "id": "1XJc3Yrg3czr"
      }
    },
    {
      "cell_type": "code",
      "source": [
        "animal_tuple_2 = ('lion', 'tiger', 'cat')\n",
        "all_animals = animal_tuple + animal_tuple_2\n",
        "print(all_animals)"
      ],
      "metadata": {
        "colab": {
          "base_uri": "https://localhost:8080/"
        },
        "id": "emHDH5yC3c8j",
        "outputId": "dcc80922-efaa-4da3-8a52-72ad544ab138"
      },
      "execution_count": null,
      "outputs": [
        {
          "output_type": "stream",
          "name": "stdout",
          "text": [
            "('cat', 'dog', 'fish', 'lion', 'tiger', 'cat')\n"
          ]
        }
      ]
    },
    {
      "cell_type": "markdown",
      "source": [
        "As with lists, there are a lot of functions for tuples."
      ],
      "metadata": {
        "id": "O-eOmdMF4ogR"
      }
    },
    {
      "cell_type": "code",
      "source": [
        "print('occurences of cat:', all_animals.count('cat'))\n",
        "print('index of cat:', all_animals.index('cat'))\n",
        "print('entries in tuple:', len(all_animals))\n",
        "print('sorted tuple (became a list!):', sorted(all_animals))"
      ],
      "metadata": {
        "colab": {
          "base_uri": "https://localhost:8080/"
        },
        "id": "sq9DXNA33q0-",
        "outputId": "dbe298ec-eb72-4e4f-c114-371dae28275b"
      },
      "execution_count": null,
      "outputs": [
        {
          "output_type": "stream",
          "name": "stdout",
          "text": [
            "occurences of cat: 2\n",
            "index of cat: 0\n",
            "entries in tuple: 6\n",
            "sorted tuple (became a list!): ['cat', 'cat', 'dog', 'fish', 'lion', 'tiger']\n"
          ]
        }
      ]
    },
    {
      "cell_type": "markdown",
      "source": [
        "Workaround to change a value inside a tuple:\n",
        "* convert the tuple into a list\n",
        "* modify the list\n",
        "* convert the list into a tuple"
      ],
      "metadata": {
        "id": "6X4lgbO944AR"
      }
    },
    {
      "cell_type": "code",
      "source": [
        "my_tuple = ('apple', 'banana', 'cherry')\n",
        "my_list = list(my_tuple)\n",
        "my_list[1] = 'kiwi'\n",
        "my_tuple = tuple(my_list)\n",
        "print(my_tuple) "
      ],
      "metadata": {
        "id": "XLio6P_54B__",
        "colab": {
          "base_uri": "https://localhost:8080/"
        },
        "outputId": "0a3b9b36-dd13-40ed-e799-a04f525f8d47"
      },
      "execution_count": null,
      "outputs": [
        {
          "output_type": "stream",
          "name": "stdout",
          "text": [
            "('apple', 'kiwi', 'cherry')\n"
          ]
        }
      ]
    },
    {
      "cell_type": "markdown",
      "source": [
        "### Exercises\n",
        "  \n",
        "Exercise 1\n",
        "* Create a tuple a which contains the first four positive integers and a tuple b which contains the next four positive integers in descending order.\n",
        "* Create a tuple c which combines all the numbers from a and b in any order.\n",
        "* Create a tuple d which is a sorted copy of c.\n",
        "* Print the third element of d. \n",
        "* Print the last three elements of d. \n"
      ],
      "metadata": {
        "id": "8tMBcF716g3V"
      }
    },
    {
      "cell_type": "code",
      "source": [
        "# Solution\n",
        "tuple_a = (1, 2, 3, 4)\n",
        "tuple_b = (8, 7, 6, 5)\n",
        "tuple_c = tuple_a + tuple_b\n",
        "print(tuple_c)\n",
        "tuple_d = sorted(tuple_c)\n",
        "print(tuple_d)\n",
        "tuple_d = tuple(tuple_d)\n",
        "print(tuple_d)\n",
        "print('third element:', tuple_d[2])\n",
        "print('last three elements:', tuple_d[-3:])"
      ],
      "metadata": {
        "colab": {
          "base_uri": "https://localhost:8080/"
        },
        "id": "rjLmXW3_6hG2",
        "outputId": "22e1c9ed-6a4c-41e3-8914-01b5bb258784"
      },
      "execution_count": null,
      "outputs": [
        {
          "output_type": "stream",
          "name": "stdout",
          "text": [
            "(1, 2, 3, 4, 8, 7, 6, 5)\n",
            "[1, 2, 3, 4, 5, 6, 7, 8]\n",
            "(1, 2, 3, 4, 5, 6, 7, 8)\n",
            "third element: 3\n",
            "last three elements: (6, 7, 8)\n"
          ]
        }
      ]
    },
    {
      "cell_type": "markdown",
      "source": [
        "Exercise 2  \n",
        "* Define a function called *my_weekly_food* which takes a list of foods as argument. This list should contain seven items.  \n",
        "* Inside the function, the seven days of the week should be defined as tuple.  \n",
        "* The output of the function should be a print statement for each of the seven days and foods like: *'I eat apples on Monday.'*\n",
        "  \n",
        "* **BONUS**: Check that the list of foods contains exactly seven entries and abort if this is not the case."
      ],
      "metadata": {
        "id": "D9cuOpbxNzru"
      }
    },
    {
      "cell_type": "code",
      "source": [
        "def my_weekly_food(food_list):\n",
        "  weekdays = ('Monday', 'Tuesday', 'Wednesday', 'Thursday', 'Friday', 'Saturday', 'Sunday')\n",
        "\n",
        "  # solution A, not recommended\n",
        "  print('Solution A')\n",
        "  counter = 0\n",
        "  for i in range(len(weekdays)):\n",
        "    print('I eat ' + food_list[counter] + ' on ' + weekdays[counter] + '.')\n",
        "    counter += 1\n",
        "  # soultion B, recommended but more advanced\n",
        "  print('Solution B')\n",
        "  for food, day in zip(food_list, weekdays):\n",
        "    print('I eat ' + food + ' on ' + day + '.')"
      ],
      "metadata": {
        "id": "PIy_EgbtNxRO"
      },
      "execution_count": null,
      "outputs": []
    },
    {
      "cell_type": "code",
      "source": [
        "my_food = ['apples', 'bananas', 'cherries', 'dates', 'eggplants', 'figs', 'grapes']\n",
        "my_weekly_food(my_food)"
      ],
      "metadata": {
        "colab": {
          "base_uri": "https://localhost:8080/"
        },
        "id": "tP6qZ4R-SFol",
        "outputId": "eb893e06-46b1-43c8-da5f-303309ef9a6d"
      },
      "execution_count": null,
      "outputs": [
        {
          "output_type": "stream",
          "name": "stdout",
          "text": [
            "Solution A\n",
            "I eat apples on Monday.\n",
            "I eat bananas on Tuesday.\n",
            "I eat cherries on Wednesday.\n",
            "I eat dates on Thursday.\n",
            "I eat eggplants on Friday.\n",
            "I eat figs on Saturday.\n",
            "I eat grapes on Sunday.\n",
            "Solution B\n",
            "I eat apples on Monday.\n",
            "I eat bananas on Tuesday.\n",
            "I eat cherries on Wednesday.\n",
            "I eat dates on Thursday.\n",
            "I eat eggplants on Friday.\n",
            "I eat figs on Saturday.\n",
            "I eat grapes on Sunday.\n"
          ]
        }
      ]
    },
    {
      "cell_type": "markdown",
      "source": [
        "### Something completely different: String formatting\n",
        "\n",
        "Rather than writing something like this:"
      ],
      "metadata": {
        "id": "OgR86R1YQ1xx"
      }
    },
    {
      "cell_type": "code",
      "source": [
        "name = 'Alice'\n",
        "city = 'London'\n",
        "age = 21\n",
        "\n",
        "print('Hello, my name is ' + name + '. I live in ' + city + '. I am ' + str(age) + ' years old.')"
      ],
      "metadata": {
        "colab": {
          "base_uri": "https://localhost:8080/"
        },
        "id": "Ju56BSlPQ13u",
        "outputId": "63af5da1-6d7b-43e1-b540-530619e3e3ed"
      },
      "execution_count": null,
      "outputs": [
        {
          "output_type": "stream",
          "name": "stdout",
          "text": [
            "Hello, my name is Alice. I live in London. I am 21 years old.\n"
          ]
        }
      ]
    },
    {
      "cell_type": "markdown",
      "source": [
        "Use a so-called f-string. You define a f-string by simply writing an “f” without quotation marks in front of the string. You can then give variables to the string in curly brackets:"
      ],
      "metadata": {
        "id": "wAjzWQFIRDw4"
      }
    },
    {
      "cell_type": "code",
      "source": [
        "print(f'Hello, my name is {name}. I live in {city}. I am {age} years old.')"
      ],
      "metadata": {
        "colab": {
          "base_uri": "https://localhost:8080/"
        },
        "id": "ARddy4snRD2R",
        "outputId": "e22679cd-51d3-4acb-81a0-9e762fb47ab1"
      },
      "execution_count": null,
      "outputs": [
        {
          "output_type": "stream",
          "name": "stdout",
          "text": [
            "Hello, my name is Alice. I live in London. I am 21 years old.\n"
          ]
        }
      ]
    },
    {
      "cell_type": "markdown",
      "source": [
        "Note that you also don't have to worry about converting the integer to string first."
      ],
      "metadata": {
        "id": "eM1flQBuRD9h"
      }
    },
    {
      "cell_type": "markdown",
      "source": [
        "### Homework\n",
        "\n",
        "1 Write a program to accept a number from the user and store first 10 multiples of number in a tuple, for example:"
      ],
      "metadata": {
        "id": "sjl0Jo1KH35y"
      }
    },
    {
      "cell_type": "code",
      "source": [
        "# your code here"
      ],
      "metadata": {
        "colab": {
          "base_uri": "https://localhost:8080/"
        },
        "id": "svUSpvCOUuPo",
        "outputId": "10ba4360-d38e-4432-baaf-63ac93a22353"
      },
      "execution_count": null,
      "outputs": [
        {
          "output_type": "stream",
          "name": "stdout",
          "text": [
            "Please enter your number: 5\n",
            "The tuple is: (5, 10, 15, 20, 25, 30, 35, 40, 45, 50\n"
          ]
        }
      ]
    },
    {
      "cell_type": "markdown",
      "source": [
        "2 Write a program to concatenate all characters from a tuple into a single string, for example:"
      ],
      "metadata": {
        "id": "j5gXHn-BVNKT"
      }
    },
    {
      "cell_type": "code",
      "source": [
        "# your code here"
      ],
      "metadata": {
        "colab": {
          "base_uri": "https://localhost:8080/"
        },
        "id": "otAO1zJRU4nX",
        "outputId": "ee18d501-566b-43e2-f13f-5f791786cc5b"
      },
      "execution_count": null,
      "outputs": [
        {
          "output_type": "stream",
          "name": "stdout",
          "text": [
            "('p', 'i', 'z', 'z', 'a')\n",
            "pizza\n"
          ]
        }
      ]
    },
    {
      "cell_type": "markdown",
      "source": [
        "**BONUS**: Consider that the tuple may contain non-string items.  \n",
        "3 Quiz on Scalando"
      ],
      "metadata": {
        "id": "mWreKyCFaoLl"
      }
    }
  ]
}