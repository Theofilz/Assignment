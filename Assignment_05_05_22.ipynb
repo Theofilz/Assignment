{
  "nbformat": 4,
  "nbformat_minor": 0,
  "metadata": {
    "colab": {
      "name": "Assignment  05.05.22.ipynb",
      "provenance": [],
      "authorship_tag": "ABX9TyMj5ffeufHYouHcWmacVLI0",
      "include_colab_link": true
    },
    "kernelspec": {
      "name": "python3",
      "display_name": "Python 3"
    },
    "language_info": {
      "name": "python"
    }
  },
  "cells": [
    {
      "cell_type": "markdown",
      "metadata": {
        "id": "view-in-github",
        "colab_type": "text"
      },
      "source": [
        "<a href=\"https://colab.research.google.com/github/Theofilz/Assignment/blob/main/Assignment_05_05_22.ipynb\" target=\"_parent\"><img src=\"https://colab.research.google.com/assets/colab-badge.svg\" alt=\"Open In Colab\"/></a>"
      ]
    },
    {
      "cell_type": "code",
      "source": [
        "#program to remove all the occurrences of item 42\n",
        "num = [1, 2, 42, 4, 5, 6, 42, 42, 9, 42]\n",
        "while 42 in num:\n",
        "    num.remove(42)\n",
        "print(num)"
      ],
      "metadata": {
        "colab": {
          "base_uri": "https://localhost:8080/"
        },
        "id": "JPdODhjpmLoa",
        "outputId": "f4d5d582-75b2-49ff-c103-99e6ac9f8e5a"
      },
      "execution_count": null,
      "outputs": [
        {
          "output_type": "stream",
          "name": "stdout",
          "text": [
            "[1, 2, 4, 5, 6, 9]\n"
          ]
        }
      ]
    },
    {
      "cell_type": "code",
      "source": [
        "# program to turn every item of a list into its square\n",
        "numbers = [1, 2, 3, 4, 5, 6, 7, 8, 9, 10]\n",
        "squares = []\n",
        "for number in numbers:\n",
        "    squares.append(number ** 2)\n",
        "print(squares)"
      ],
      "metadata": {
        "colab": {
          "base_uri": "https://localhost:8080/"
        },
        "id": "5OP8bq3B0v9R",
        "outputId": "a8b09b51-5cff-4252-ddc7-dc218d72d94e"
      },
      "execution_count": 20,
      "outputs": [
        {
          "output_type": "stream",
          "name": "stdout",
          "text": [
            "[1, 4, 9, 16, 25, 36, 49, 64, 81, 100]\n"
          ]
        }
      ]
    },
    {
      "cell_type": "code",
      "source": [
        "#dictionaries\n",
        "\n",
        "countries = {\n",
        "    \"Germany\" : \"Berlin\",\n",
        "    \"Nigeria\" : \"Abuja\",\n",
        "    \"Ghana\" : \"Accra\",\n",
        "    \"USA\" : \"Washington DC\"\n",
        "  }\n",
        "print(countries)\n"
      ],
      "metadata": {
        "id": "f7jdXEQEU6SY",
        "outputId": "46743d35-0320-40c9-abd4-c163ee07e13b",
        "colab": {
          "base_uri": "https://localhost:8080/"
        }
      },
      "execution_count": null,
      "outputs": [
        {
          "output_type": "stream",
          "name": "stdout",
          "text": [
            "{'Germany': 'Berlin', 'Nigeria': 'Abuja', 'Ghana': 'Accra', 'USA': 'Washington DC'}\n"
          ]
        }
      ]
    },
    {
      "cell_type": "code",
      "source": [
        "for country, capital in countries.items():\n",
        "  print(\"The capital of\", country, \"is\", capital)\n",
        "\n",
        "\n"
      ],
      "metadata": {
        "id": "bL57EiRZWRzH",
        "outputId": "25314927-b20d-44f9-f994-8fbf7a0529f3",
        "colab": {
          "base_uri": "https://localhost:8080/"
        }
      },
      "execution_count": null,
      "outputs": [
        {
          "output_type": "stream",
          "name": "stdout",
          "text": [
            "The capital of Germany is Berlin\n",
            "The capital of Nigeria is Abuja\n",
            "The capital of Ghana is Accra\n",
            "The capital of USA is Washington DC\n"
          ]
        }
      ]
    },
    {
      "cell_type": "code",
      "source": [
        "#delete the countries you have been to\n",
        "del countries['Ghana']\n",
        "print(countries)"
      ],
      "metadata": {
        "id": "a9PK61EPZIqL",
        "outputId": "cf424b70-9def-488a-fdba-4561d4a33f95",
        "colab": {
          "base_uri": "https://localhost:8080/"
        }
      },
      "execution_count": 18,
      "outputs": [
        {
          "output_type": "stream",
          "name": "stdout",
          "text": [
            "{'USA': 'Washington DC'}\n"
          ]
        }
      ]
    },
    {
      "cell_type": "code",
      "source": [
        "del countries[\"USA\"]\n",
        "print(countries)"
      ],
      "metadata": {
        "id": "kZ5VbGUHkFSo",
        "outputId": "1b0b234c-268d-4c4d-ee52-4c6a1182141d",
        "colab": {
          "base_uri": "https://localhost:8080/"
        }
      },
      "execution_count": 21,
      "outputs": [
        {
          "output_type": "stream",
          "name": "stdout",
          "text": [
            "{}\n"
          ]
        }
      ]
    },
    {
      "cell_type": "code",
      "source": [
        "\n",
        "numbers = {}\n"
      ],
      "metadata": {
        "id": "CpCm4FUVapSO"
      },
      "execution_count": null,
      "outputs": []
    }
  ]
}