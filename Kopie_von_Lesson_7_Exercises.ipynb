{
  "nbformat": 4,
  "nbformat_minor": 0,
  "metadata": {
    "colab": {
      "name": "Kopie von Lesson 7 - Exercises.ipynb",
      "provenance": [],
      "include_colab_link": true
    },
    "kernelspec": {
      "name": "python3",
      "display_name": "Python 3"
    },
    "language_info": {
      "name": "python"
    }
  },
  "cells": [
    {
      "cell_type": "markdown",
      "metadata": {
        "id": "view-in-github",
        "colab_type": "text"
      },
      "source": [
        "<a href=\"https://colab.research.google.com/github/Theofilz/Assignment/blob/main/Kopie_von_Lesson_7_Exercises.ipynb\" target=\"_parent\"><img src=\"https://colab.research.google.com/assets/colab-badge.svg\" alt=\"Open In Colab\"/></a>"
      ]
    },
    {
      "cell_type": "markdown",
      "source": [
        "# Lesson 7 - Imports and Built-In Functions\n"
      ],
      "metadata": {
        "id": "_HYsolI8MviG"
      }
    },
    {
      "cell_type": "markdown",
      "source": [
        "### Exercise 1 - Functions\n",
        "Write a function that ***returns*** the greater number of two ***given*** numbers. \n",
        "Hint: You need two parameters for the two given numbers"
      ],
      "metadata": {
        "id": "rynH_ZNmM2rZ"
      }
    },
    {
      "cell_type": "code",
      "source": [
        "#write your code here:def \n",
        "def get_max(smaller_number, greater_number):\n",
        " \n",
        "  if (smaller_number > greater_number):\n",
        "    return smaller_number\n",
        "  else:\n",
        "    return greater_number\n",
        "get_max(8, 4)"
      ],
      "metadata": {
        "id": "OeVayFozM-35",
        "colab": {
          "base_uri": "https://localhost:8080/"
        },
        "outputId": "a8a26ea0-8fad-4574-af42-bd0901293ad1"
      },
      "execution_count": 3,
      "outputs": [
        {
          "output_type": "execute_result",
          "data": {
            "text/plain": [
              "8"
            ]
          },
          "metadata": {},
          "execution_count": 3
        }
      ]
    },
    {
      "cell_type": "markdown",
      "source": [
        "### Exercise 2 Built-In Functions\n",
        "Write a function named ***check_password_length()*** to check if a given password has the minimum length of 8 characters. Return a ***boolean*** that indicates if the given password has the required length.\n"
      ],
      "metadata": {
        "id": "al62SR_NM_g5"
      }
    },
    {
      "cell_type": "code",
      "execution_count": 7,
      "metadata": {
        "id": "MiLPyOiNMfJJ",
        "colab": {
          "base_uri": "https://localhost:8080/"
        },
        "outputId": "f87ef9f0-4df6-4b62-c906-53f9fc5a16dc"
      },
      "outputs": [
        {
          "output_type": "execute_result",
          "data": {
            "text/plain": [
              "True"
            ]
          },
          "metadata": {},
          "execution_count": 7
        }
      ],
      "source": [
        "#write your code here:\n",
        "def check_length(given_password):\n",
        "  if len(given_password)<= 8:\n",
        "    return False\n",
        "  else:\n",
        "    return True\n",
        "check_length(\"individual\")"
      ]
    },
    {
      "cell_type": "markdown",
      "source": [
        "Write another function named ***request_password()***  that ask the user to enter a password. Then check if the entered password has the required length of 8 character (use the function *check_password_length* that you have written before). If the password has the required length, print \"*Thank you for entering your password*”. Otherwise print \"*The entered password is too short. Your password needs at least 8 characters.*”\n",
        "\n"
      ],
      "metadata": {
        "id": "X4Ey2ulYRZKi"
      }
    },
    {
      "cell_type": "code",
      "source": [
        "#write your code here:"
      ],
      "metadata": {
        "id": "7g3qwfFYNJ8L"
      },
      "execution_count": null,
      "outputs": []
    },
    {
      "cell_type": "markdown",
      "source": [
        "### Exercise 3\n",
        "Write a function ***get_sqrt()*** that ***returns*** the square  root of a given number using the ***math module***"
      ],
      "metadata": {
        "id": "rXjzN_kVUZIQ"
      }
    },
    {
      "cell_type": "code",
      "source": [
        "#write your code here:"
      ],
      "metadata": {
        "id": "kll8gP8PUepJ"
      },
      "execution_count": null,
      "outputs": []
    },
    {
      "cell_type": "markdown",
      "source": [
        "### Exercise 4 - Importing Functions\n",
        "Create a function that returns\n",
        "0 with 25%\n",
        "*   0 with 25%\n",
        "*   1 with 75%\n",
        "\n",
        "probability\n"
      ],
      "metadata": {
        "id": "zPPCsXiFSDEy"
      }
    },
    {
      "cell_type": "code",
      "source": [
        "#write your code here:"
      ],
      "metadata": {
        "id": "2M98JblMPgQE"
      },
      "execution_count": null,
      "outputs": []
    }
  ]
}